{
 "cells": [
  {
   "cell_type": "markdown",
   "id": "118a8f7e",
   "metadata": {},
   "source": [
    "# Application des SGWT à la prédiction du nombre de décès par région en France "
   ]
  },
  {
   "cell_type": "code",
   "execution_count": 1,
   "id": "2dc07cb8",
   "metadata": {},
   "outputs": [],
   "source": [
    "#Import des packages\n",
    "import pandas as pd\n",
    "from pathlib import Path\n",
    "from IPython.display import display, Markdown"
   ]
  },
  {
   "cell_type": "code",
   "execution_count": 2,
   "id": "0bf23bc9",
   "metadata": {},
   "outputs": [
    {
     "data": {
      "text/plain": [
       "<module 'Tools' from 'c:\\\\Users\\\\Pierre Monnin\\\\OneDrive\\\\Desktop\\\\TIDE\\\\Apprentissage statistique non linéaire\\\\Projet\\\\Notebook\\\\Tools.py'>"
      ]
     },
     "execution_count": 2,
     "metadata": {},
     "output_type": "execute_result"
    }
   ],
   "source": [
    "#Import de nos fonctions provenant du fichier tools.py\n",
    "#Relancer à chaque modification du fichier Tools\n",
    "import importlib, Tools\n",
    "importlib.reload(Tools)\n"
   ]
  },
  {
   "cell_type": "markdown",
   "id": "c69332f4",
   "metadata": {},
   "source": [
    "# 1. Construction de notre base de données"
   ]
  },
  {
   "cell_type": "markdown",
   "id": "20cd70ee",
   "metadata": {},
   "source": [
    "### 1.1 Import des données"
   ]
  },
  {
   "cell_type": "code",
   "execution_count": 3,
   "id": "ce3eb637",
   "metadata": {},
   "outputs": [
    {
     "data": {
      "text/markdown": [
       "### 💠 Dimensions du dataset"
      ],
      "text/plain": [
       "<IPython.core.display.Markdown object>"
      ]
     },
     "metadata": {},
     "output_type": "display_data"
    },
    {
     "data": {
      "text/plain": [
       "(609937, 11)"
      ]
     },
     "metadata": {},
     "output_type": "display_data"
    },
    {
     "data": {
      "text/markdown": [
       "### 💠 Visualisation des 5 premières lignes"
      ],
      "text/plain": [
       "<IPython.core.display.Markdown object>"
      ]
     },
     "metadata": {},
     "output_type": "display_data"
    },
    {
     "data": {
      "text/html": [
       "<div>\n",
       "<style scoped>\n",
       "    .dataframe tbody tr th:only-of-type {\n",
       "        vertical-align: middle;\n",
       "    }\n",
       "\n",
       "    .dataframe tbody tr th {\n",
       "        vertical-align: top;\n",
       "    }\n",
       "\n",
       "    .dataframe thead th {\n",
       "        text-align: right;\n",
       "    }\n",
       "</style>\n",
       "<table border=\"1\" class=\"dataframe\">\n",
       "  <thead>\n",
       "    <tr style=\"text-align: right;\">\n",
       "      <th></th>\n",
       "      <th>ADEC</th>\n",
       "      <th>MDEC</th>\n",
       "      <th>JDEC</th>\n",
       "      <th>DEPDEC</th>\n",
       "      <th>COMDEC</th>\n",
       "      <th>ANAIS</th>\n",
       "      <th>MNAIS</th>\n",
       "      <th>JNAIS</th>\n",
       "      <th>SEXE</th>\n",
       "      <th>COMDOM</th>\n",
       "      <th>LIEUDEC2</th>\n",
       "    </tr>\n",
       "  </thead>\n",
       "  <tbody>\n",
       "    <tr>\n",
       "      <th>0</th>\n",
       "      <td>2018</td>\n",
       "      <td>1</td>\n",
       "      <td>1</td>\n",
       "      <td>974</td>\n",
       "      <td>97416</td>\n",
       "      <td>1925</td>\n",
       "      <td>10.0</td>\n",
       "      <td>20.0</td>\n",
       "      <td>F</td>\n",
       "      <td>97401</td>\n",
       "      <td>HopCli</td>\n",
       "    </tr>\n",
       "    <tr>\n",
       "      <th>1</th>\n",
       "      <td>2018</td>\n",
       "      <td>1</td>\n",
       "      <td>1</td>\n",
       "      <td>01</td>\n",
       "      <td>01034</td>\n",
       "      <td>1945</td>\n",
       "      <td>5.0</td>\n",
       "      <td>29.0</td>\n",
       "      <td>M</td>\n",
       "      <td>01034</td>\n",
       "      <td>HopCli</td>\n",
       "    </tr>\n",
       "    <tr>\n",
       "      <th>2</th>\n",
       "      <td>2018</td>\n",
       "      <td>1</td>\n",
       "      <td>1</td>\n",
       "      <td>02</td>\n",
       "      <td>02173</td>\n",
       "      <td>1963</td>\n",
       "      <td>7.0</td>\n",
       "      <td>6.0</td>\n",
       "      <td>M</td>\n",
       "      <td>02173</td>\n",
       "      <td>Non renseigne</td>\n",
       "    </tr>\n",
       "    <tr>\n",
       "      <th>3</th>\n",
       "      <td>2018</td>\n",
       "      <td>1</td>\n",
       "      <td>1</td>\n",
       "      <td>02</td>\n",
       "      <td>02691</td>\n",
       "      <td>1925</td>\n",
       "      <td>4.0</td>\n",
       "      <td>5.0</td>\n",
       "      <td>M</td>\n",
       "      <td>80811</td>\n",
       "      <td>HopCli</td>\n",
       "    </tr>\n",
       "    <tr>\n",
       "      <th>4</th>\n",
       "      <td>2018</td>\n",
       "      <td>1</td>\n",
       "      <td>1</td>\n",
       "      <td>02</td>\n",
       "      <td>02691</td>\n",
       "      <td>1929</td>\n",
       "      <td>10.0</td>\n",
       "      <td>22.0</td>\n",
       "      <td>F</td>\n",
       "      <td>80284</td>\n",
       "      <td>HopCli</td>\n",
       "    </tr>\n",
       "  </tbody>\n",
       "</table>\n",
       "</div>"
      ],
      "text/plain": [
       "   ADEC  MDEC  JDEC DEPDEC COMDEC  ANAIS  MNAIS  JNAIS SEXE COMDOM  \\\n",
       "0  2018     1     1    974  97416   1925   10.0   20.0    F  97401   \n",
       "1  2018     1     1     01  01034   1945    5.0   29.0    M  01034   \n",
       "2  2018     1     1     02  02173   1963    7.0    6.0    M  02173   \n",
       "3  2018     1     1     02  02691   1925    4.0    5.0    M  80811   \n",
       "4  2018     1     1     02  02691   1929   10.0   22.0    F  80284   \n",
       "\n",
       "        LIEUDEC2  \n",
       "0         HopCli  \n",
       "1         HopCli  \n",
       "2  Non renseigne  \n",
       "3         HopCli  \n",
       "4         HopCli  "
      ]
     },
     "metadata": {},
     "output_type": "display_data"
    }
   ],
   "source": [
    "#2018 : \n",
    "sep=\";\"\n",
    "chemin2018= Path(\"C:/Users/Pierre Monnin/OneDrive/Desktop/TIDE/Apprentissage statistique non linéaire/Projet/DATA BASE/DC_2018_det.csv\").resolve()\n",
    "Base2018= Tools.import_csv(chemin2018,sep)"
   ]
  },
  {
   "cell_type": "code",
   "execution_count": 4,
   "id": "cab60613",
   "metadata": {},
   "outputs": [
    {
     "data": {
      "text/markdown": [
       "### 💠 Dimensions du dataset"
      ],
      "text/plain": [
       "<IPython.core.display.Markdown object>"
      ]
     },
     "metadata": {},
     "output_type": "display_data"
    },
    {
     "data": {
      "text/plain": [
       "(613409, 11)"
      ]
     },
     "metadata": {},
     "output_type": "display_data"
    },
    {
     "data": {
      "text/markdown": [
       "### 💠 Visualisation des 5 premières lignes"
      ],
      "text/plain": [
       "<IPython.core.display.Markdown object>"
      ]
     },
     "metadata": {},
     "output_type": "display_data"
    },
    {
     "data": {
      "text/html": [
       "<div>\n",
       "<style scoped>\n",
       "    .dataframe tbody tr th:only-of-type {\n",
       "        vertical-align: middle;\n",
       "    }\n",
       "\n",
       "    .dataframe tbody tr th {\n",
       "        vertical-align: top;\n",
       "    }\n",
       "\n",
       "    .dataframe thead th {\n",
       "        text-align: right;\n",
       "    }\n",
       "</style>\n",
       "<table border=\"1\" class=\"dataframe\">\n",
       "  <thead>\n",
       "    <tr style=\"text-align: right;\">\n",
       "      <th></th>\n",
       "      <th>ADEC</th>\n",
       "      <th>MDEC</th>\n",
       "      <th>JDEC</th>\n",
       "      <th>DEPDEC</th>\n",
       "      <th>COMDEC</th>\n",
       "      <th>ANAIS</th>\n",
       "      <th>MNAIS</th>\n",
       "      <th>JNAIS</th>\n",
       "      <th>SEXE</th>\n",
       "      <th>COMDOM</th>\n",
       "      <th>LIEUDEC2</th>\n",
       "    </tr>\n",
       "  </thead>\n",
       "  <tbody>\n",
       "    <tr>\n",
       "      <th>0</th>\n",
       "      <td>2019</td>\n",
       "      <td>1</td>\n",
       "      <td>1</td>\n",
       "      <td>974</td>\n",
       "      <td>97416</td>\n",
       "      <td>1933</td>\n",
       "      <td>10.0</td>\n",
       "      <td>29.0</td>\n",
       "      <td>M</td>\n",
       "      <td>97416</td>\n",
       "      <td>Logem</td>\n",
       "    </tr>\n",
       "    <tr>\n",
       "      <th>1</th>\n",
       "      <td>2019</td>\n",
       "      <td>1</td>\n",
       "      <td>1</td>\n",
       "      <td>01</td>\n",
       "      <td>01004</td>\n",
       "      <td>1926</td>\n",
       "      <td>3.0</td>\n",
       "      <td>18.0</td>\n",
       "      <td>M</td>\n",
       "      <td>01004</td>\n",
       "      <td>HopCli</td>\n",
       "    </tr>\n",
       "    <tr>\n",
       "      <th>2</th>\n",
       "      <td>2019</td>\n",
       "      <td>1</td>\n",
       "      <td>1</td>\n",
       "      <td>01</td>\n",
       "      <td>01451</td>\n",
       "      <td>1917</td>\n",
       "      <td>7.0</td>\n",
       "      <td>11.0</td>\n",
       "      <td>F</td>\n",
       "      <td>01074</td>\n",
       "      <td>HopCli</td>\n",
       "    </tr>\n",
       "    <tr>\n",
       "      <th>3</th>\n",
       "      <td>2019</td>\n",
       "      <td>1</td>\n",
       "      <td>1</td>\n",
       "      <td>02</td>\n",
       "      <td>02361</td>\n",
       "      <td>1934</td>\n",
       "      <td>3.0</td>\n",
       "      <td>27.0</td>\n",
       "      <td>F</td>\n",
       "      <td>02691</td>\n",
       "      <td>HopCli</td>\n",
       "    </tr>\n",
       "    <tr>\n",
       "      <th>4</th>\n",
       "      <td>2019</td>\n",
       "      <td>1</td>\n",
       "      <td>1</td>\n",
       "      <td>02</td>\n",
       "      <td>02408</td>\n",
       "      <td>1934</td>\n",
       "      <td>5.0</td>\n",
       "      <td>15.0</td>\n",
       "      <td>F</td>\n",
       "      <td>02553</td>\n",
       "      <td>HopCli</td>\n",
       "    </tr>\n",
       "  </tbody>\n",
       "</table>\n",
       "</div>"
      ],
      "text/plain": [
       "   ADEC  MDEC  JDEC DEPDEC COMDEC  ANAIS  MNAIS  JNAIS SEXE COMDOM LIEUDEC2\n",
       "0  2019     1     1    974  97416   1933   10.0   29.0    M  97416    Logem\n",
       "1  2019     1     1     01  01004   1926    3.0   18.0    M  01004   HopCli\n",
       "2  2019     1     1     01  01451   1917    7.0   11.0    F  01074   HopCli\n",
       "3  2019     1     1     02  02361   1934    3.0   27.0    F  02691   HopCli\n",
       "4  2019     1     1     02  02408   1934    5.0   15.0    F  02553   HopCli"
      ]
     },
     "metadata": {},
     "output_type": "display_data"
    }
   ],
   "source": [
    "#2019:\n",
    "chemin2019= Path(\"C:/Users/Pierre Monnin/OneDrive/Desktop/TIDE/Apprentissage statistique non linéaire/Projet/DATA BASE/DC_2019_det.csv\").resolve()\n",
    "Base2019= Tools.import_csv(chemin2019,sep)"
   ]
  },
  {
   "cell_type": "code",
   "execution_count": 5,
   "id": "79ed26ef",
   "metadata": {},
   "outputs": [
    {
     "data": {
      "text/markdown": [
       "### 💠 Dimensions du dataset"
      ],
      "text/plain": [
       "<IPython.core.display.Markdown object>"
      ]
     },
     "metadata": {},
     "output_type": "display_data"
    },
    {
     "data": {
      "text/plain": [
       "(669154, 11)"
      ]
     },
     "metadata": {},
     "output_type": "display_data"
    },
    {
     "data": {
      "text/markdown": [
       "### 💠 Visualisation des 5 premières lignes"
      ],
      "text/plain": [
       "<IPython.core.display.Markdown object>"
      ]
     },
     "metadata": {},
     "output_type": "display_data"
    },
    {
     "data": {
      "text/html": [
       "<div>\n",
       "<style scoped>\n",
       "    .dataframe tbody tr th:only-of-type {\n",
       "        vertical-align: middle;\n",
       "    }\n",
       "\n",
       "    .dataframe tbody tr th {\n",
       "        vertical-align: top;\n",
       "    }\n",
       "\n",
       "    .dataframe thead th {\n",
       "        text-align: right;\n",
       "    }\n",
       "</style>\n",
       "<table border=\"1\" class=\"dataframe\">\n",
       "  <thead>\n",
       "    <tr style=\"text-align: right;\">\n",
       "      <th></th>\n",
       "      <th>ADEC</th>\n",
       "      <th>MDEC</th>\n",
       "      <th>JDEC</th>\n",
       "      <th>DEPDEC</th>\n",
       "      <th>COMDEC</th>\n",
       "      <th>ANAIS</th>\n",
       "      <th>MNAIS</th>\n",
       "      <th>JNAIS</th>\n",
       "      <th>SEXE</th>\n",
       "      <th>COMDOM</th>\n",
       "      <th>LIEUDEC2</th>\n",
       "    </tr>\n",
       "  </thead>\n",
       "  <tbody>\n",
       "    <tr>\n",
       "      <th>0</th>\n",
       "      <td>2020</td>\n",
       "      <td>1</td>\n",
       "      <td>1</td>\n",
       "      <td>01</td>\n",
       "      <td>01014</td>\n",
       "      <td>1977</td>\n",
       "      <td>9.0</td>\n",
       "      <td>21.0</td>\n",
       "      <td>M</td>\n",
       "      <td>39283</td>\n",
       "      <td>Autres</td>\n",
       "    </tr>\n",
       "    <tr>\n",
       "      <th>1</th>\n",
       "      <td>2020</td>\n",
       "      <td>1</td>\n",
       "      <td>1</td>\n",
       "      <td>01</td>\n",
       "      <td>01053</td>\n",
       "      <td>1922</td>\n",
       "      <td>9.0</td>\n",
       "      <td>28.0</td>\n",
       "      <td>F</td>\n",
       "      <td>01053</td>\n",
       "      <td>HosMar</td>\n",
       "    </tr>\n",
       "    <tr>\n",
       "      <th>2</th>\n",
       "      <td>2020</td>\n",
       "      <td>1</td>\n",
       "      <td>1</td>\n",
       "      <td>01</td>\n",
       "      <td>01102</td>\n",
       "      <td>1995</td>\n",
       "      <td>3.0</td>\n",
       "      <td>11.0</td>\n",
       "      <td>M</td>\n",
       "      <td>01102</td>\n",
       "      <td>Logem</td>\n",
       "    </tr>\n",
       "    <tr>\n",
       "      <th>3</th>\n",
       "      <td>2020</td>\n",
       "      <td>1</td>\n",
       "      <td>1</td>\n",
       "      <td>01</td>\n",
       "      <td>01179</td>\n",
       "      <td>1937</td>\n",
       "      <td>4.0</td>\n",
       "      <td>9.0</td>\n",
       "      <td>F</td>\n",
       "      <td>01179</td>\n",
       "      <td>Logem</td>\n",
       "    </tr>\n",
       "    <tr>\n",
       "      <th>4</th>\n",
       "      <td>2020</td>\n",
       "      <td>1</td>\n",
       "      <td>1</td>\n",
       "      <td>01</td>\n",
       "      <td>01283</td>\n",
       "      <td>1930</td>\n",
       "      <td>8.0</td>\n",
       "      <td>5.0</td>\n",
       "      <td>F</td>\n",
       "      <td>01283</td>\n",
       "      <td>HopCli</td>\n",
       "    </tr>\n",
       "  </tbody>\n",
       "</table>\n",
       "</div>"
      ],
      "text/plain": [
       "   ADEC  MDEC  JDEC DEPDEC COMDEC  ANAIS  MNAIS  JNAIS SEXE COMDOM LIEUDEC2\n",
       "0  2020     1     1     01  01014   1977    9.0   21.0    M  39283   Autres\n",
       "1  2020     1     1     01  01053   1922    9.0   28.0    F  01053   HosMar\n",
       "2  2020     1     1     01  01102   1995    3.0   11.0    M  01102    Logem\n",
       "3  2020     1     1     01  01179   1937    4.0    9.0    F  01179    Logem\n",
       "4  2020     1     1     01  01283   1930    8.0    5.0    F  01283   HopCli"
      ]
     },
     "metadata": {},
     "output_type": "display_data"
    }
   ],
   "source": [
    "#2020:\n",
    "chemin2020= Path(\"C:/Users/Pierre Monnin/OneDrive/Desktop/TIDE/Apprentissage statistique non linéaire/Projet/DATA BASE/DC_2020_det.csv\").resolve()\n",
    "Base2020= Tools.import_csv(chemin2020,sep)"
   ]
  },
  {
   "cell_type": "code",
   "execution_count": 6,
   "id": "e30180db",
   "metadata": {},
   "outputs": [
    {
     "data": {
      "text/markdown": [
       "### 💠 Dimensions du dataset"
      ],
      "text/plain": [
       "<IPython.core.display.Markdown object>"
      ]
     },
     "metadata": {},
     "output_type": "display_data"
    },
    {
     "data": {
      "text/plain": [
       "(661778, 11)"
      ]
     },
     "metadata": {},
     "output_type": "display_data"
    },
    {
     "data": {
      "text/markdown": [
       "### 💠 Visualisation des 5 premières lignes"
      ],
      "text/plain": [
       "<IPython.core.display.Markdown object>"
      ]
     },
     "metadata": {},
     "output_type": "display_data"
    },
    {
     "data": {
      "text/html": [
       "<div>\n",
       "<style scoped>\n",
       "    .dataframe tbody tr th:only-of-type {\n",
       "        vertical-align: middle;\n",
       "    }\n",
       "\n",
       "    .dataframe tbody tr th {\n",
       "        vertical-align: top;\n",
       "    }\n",
       "\n",
       "    .dataframe thead th {\n",
       "        text-align: right;\n",
       "    }\n",
       "</style>\n",
       "<table border=\"1\" class=\"dataframe\">\n",
       "  <thead>\n",
       "    <tr style=\"text-align: right;\">\n",
       "      <th></th>\n",
       "      <th>ADEC</th>\n",
       "      <th>MDEC</th>\n",
       "      <th>JDEC</th>\n",
       "      <th>DEPDEC</th>\n",
       "      <th>COMDEC</th>\n",
       "      <th>ANAIS</th>\n",
       "      <th>MNAIS</th>\n",
       "      <th>JNAIS</th>\n",
       "      <th>SEXE</th>\n",
       "      <th>COMDOM</th>\n",
       "      <th>LIEUDEC2</th>\n",
       "    </tr>\n",
       "  </thead>\n",
       "  <tbody>\n",
       "    <tr>\n",
       "      <th>0</th>\n",
       "      <td>2021</td>\n",
       "      <td>1</td>\n",
       "      <td>1</td>\n",
       "      <td>01</td>\n",
       "      <td>01010</td>\n",
       "      <td>1939</td>\n",
       "      <td>11.0</td>\n",
       "      <td>8.0</td>\n",
       "      <td>F</td>\n",
       "      <td>01010</td>\n",
       "      <td>Logem</td>\n",
       "    </tr>\n",
       "    <tr>\n",
       "      <th>1</th>\n",
       "      <td>2021</td>\n",
       "      <td>1</td>\n",
       "      <td>1</td>\n",
       "      <td>01</td>\n",
       "      <td>01034</td>\n",
       "      <td>1939</td>\n",
       "      <td>7.0</td>\n",
       "      <td>25.0</td>\n",
       "      <td>M</td>\n",
       "      <td>01058</td>\n",
       "      <td>HopCli</td>\n",
       "    </tr>\n",
       "    <tr>\n",
       "      <th>2</th>\n",
       "      <td>2021</td>\n",
       "      <td>1</td>\n",
       "      <td>1</td>\n",
       "      <td>01</td>\n",
       "      <td>01053</td>\n",
       "      <td>1949</td>\n",
       "      <td>6.0</td>\n",
       "      <td>23.0</td>\n",
       "      <td>F</td>\n",
       "      <td>01053</td>\n",
       "      <td>HosMar</td>\n",
       "    </tr>\n",
       "    <tr>\n",
       "      <th>3</th>\n",
       "      <td>2021</td>\n",
       "      <td>1</td>\n",
       "      <td>1</td>\n",
       "      <td>01</td>\n",
       "      <td>01053</td>\n",
       "      <td>1966</td>\n",
       "      <td>11.0</td>\n",
       "      <td>15.0</td>\n",
       "      <td>F</td>\n",
       "      <td>01350</td>\n",
       "      <td>HopCli</td>\n",
       "    </tr>\n",
       "    <tr>\n",
       "      <th>4</th>\n",
       "      <td>2021</td>\n",
       "      <td>1</td>\n",
       "      <td>1</td>\n",
       "      <td>01</td>\n",
       "      <td>01068</td>\n",
       "      <td>1927</td>\n",
       "      <td>6.0</td>\n",
       "      <td>NaN</td>\n",
       "      <td>F</td>\n",
       "      <td>01068</td>\n",
       "      <td>HosMar</td>\n",
       "    </tr>\n",
       "  </tbody>\n",
       "</table>\n",
       "</div>"
      ],
      "text/plain": [
       "   ADEC  MDEC  JDEC DEPDEC COMDEC  ANAIS  MNAIS  JNAIS SEXE COMDOM LIEUDEC2\n",
       "0  2021     1     1     01  01010   1939   11.0    8.0    F  01010    Logem\n",
       "1  2021     1     1     01  01034   1939    7.0   25.0    M  01058   HopCli\n",
       "2  2021     1     1     01  01053   1949    6.0   23.0    F  01053   HosMar\n",
       "3  2021     1     1     01  01053   1966   11.0   15.0    F  01350   HopCli\n",
       "4  2021     1     1     01  01068   1927    6.0    NaN    F  01068   HosMar"
      ]
     },
     "metadata": {},
     "output_type": "display_data"
    }
   ],
   "source": [
    "#2021:\n",
    "chemin2021= Path(\"C:/Users/Pierre Monnin/OneDrive/Desktop/TIDE/Apprentissage statistique non linéaire/Projet/DATA BASE/DC_2021_det.csv\").resolve()\n",
    "Base2021= Tools.import_csv(chemin2021,sep)"
   ]
  },
  {
   "cell_type": "code",
   "execution_count": 7,
   "id": "8737adee",
   "metadata": {},
   "outputs": [
    {
     "data": {
      "text/markdown": [
       "### 💠 Dimensions du dataset"
      ],
      "text/plain": [
       "<IPython.core.display.Markdown object>"
      ]
     },
     "metadata": {},
     "output_type": "display_data"
    },
    {
     "data": {
      "text/plain": [
       "(1313537, 11)"
      ]
     },
     "metadata": {},
     "output_type": "display_data"
    },
    {
     "data": {
      "text/markdown": [
       "### 💠 Visualisation des 5 premières lignes"
      ],
      "text/plain": [
       "<IPython.core.display.Markdown object>"
      ]
     },
     "metadata": {},
     "output_type": "display_data"
    },
    {
     "data": {
      "text/html": [
       "<div>\n",
       "<style scoped>\n",
       "    .dataframe tbody tr th:only-of-type {\n",
       "        vertical-align: middle;\n",
       "    }\n",
       "\n",
       "    .dataframe tbody tr th {\n",
       "        vertical-align: top;\n",
       "    }\n",
       "\n",
       "    .dataframe thead th {\n",
       "        text-align: right;\n",
       "    }\n",
       "</style>\n",
       "<table border=\"1\" class=\"dataframe\">\n",
       "  <thead>\n",
       "    <tr style=\"text-align: right;\">\n",
       "      <th></th>\n",
       "      <th>ADEC</th>\n",
       "      <th>MDEC</th>\n",
       "      <th>JDEC</th>\n",
       "      <th>DEPDEC</th>\n",
       "      <th>COMDEC</th>\n",
       "      <th>ANAIS</th>\n",
       "      <th>MNAIS</th>\n",
       "      <th>JNAIS</th>\n",
       "      <th>SEXE</th>\n",
       "      <th>COMDOM</th>\n",
       "      <th>LIEUDEC2</th>\n",
       "    </tr>\n",
       "  </thead>\n",
       "  <tbody>\n",
       "    <tr>\n",
       "      <th>0</th>\n",
       "      <td>2022</td>\n",
       "      <td>1</td>\n",
       "      <td>1</td>\n",
       "      <td>01</td>\n",
       "      <td>01004</td>\n",
       "      <td>1927</td>\n",
       "      <td>10.0</td>\n",
       "      <td>29.0</td>\n",
       "      <td>F</td>\n",
       "      <td>01384</td>\n",
       "      <td>HopCli</td>\n",
       "    </tr>\n",
       "    <tr>\n",
       "      <th>1</th>\n",
       "      <td>2022</td>\n",
       "      <td>1</td>\n",
       "      <td>1</td>\n",
       "      <td>01</td>\n",
       "      <td>01004</td>\n",
       "      <td>1947</td>\n",
       "      <td>8.0</td>\n",
       "      <td>31.0</td>\n",
       "      <td>F</td>\n",
       "      <td>01041</td>\n",
       "      <td>HopCli</td>\n",
       "    </tr>\n",
       "    <tr>\n",
       "      <th>2</th>\n",
       "      <td>2022</td>\n",
       "      <td>1</td>\n",
       "      <td>1</td>\n",
       "      <td>01</td>\n",
       "      <td>01032</td>\n",
       "      <td>1929</td>\n",
       "      <td>1.0</td>\n",
       "      <td>5.0</td>\n",
       "      <td>F</td>\n",
       "      <td>01151</td>\n",
       "      <td>HosMar</td>\n",
       "    </tr>\n",
       "    <tr>\n",
       "      <th>3</th>\n",
       "      <td>2022</td>\n",
       "      <td>1</td>\n",
       "      <td>1</td>\n",
       "      <td>01</td>\n",
       "      <td>01034</td>\n",
       "      <td>1931</td>\n",
       "      <td>7.0</td>\n",
       "      <td>3.0</td>\n",
       "      <td>F</td>\n",
       "      <td>01034</td>\n",
       "      <td>HopCli</td>\n",
       "    </tr>\n",
       "    <tr>\n",
       "      <th>4</th>\n",
       "      <td>2022</td>\n",
       "      <td>1</td>\n",
       "      <td>1</td>\n",
       "      <td>01</td>\n",
       "      <td>01093</td>\n",
       "      <td>1931</td>\n",
       "      <td>3.0</td>\n",
       "      <td>5.0</td>\n",
       "      <td>F</td>\n",
       "      <td>01093</td>\n",
       "      <td>Logem</td>\n",
       "    </tr>\n",
       "  </tbody>\n",
       "</table>\n",
       "</div>"
      ],
      "text/plain": [
       "   ADEC  MDEC  JDEC DEPDEC COMDEC  ANAIS  MNAIS  JNAIS SEXE COMDOM LIEUDEC2\n",
       "0  2022     1     1     01  01004   1927   10.0   29.0    F  01384   HopCli\n",
       "1  2022     1     1     01  01004   1947    8.0   31.0    F  01041   HopCli\n",
       "2  2022     1     1     01  01032   1929    1.0    5.0    F  01151   HosMar\n",
       "3  2022     1     1     01  01034   1931    7.0    3.0    F  01034   HopCli\n",
       "4  2022     1     1     01  01093   1931    3.0    5.0    F  01093    Logem"
      ]
     },
     "metadata": {},
     "output_type": "display_data"
    }
   ],
   "source": [
    "#2022&2023:\n",
    "chemin2022_2023= Path(\"C:/Users/Pierre Monnin/OneDrive/Desktop/TIDE/Apprentissage statistique non linéaire/Projet/DATA BASE/DC_20222023_det.csv\").resolve()\n",
    "Base2022_2023= Tools.import_csv(chemin2022_2023,sep)"
   ]
  },
  {
   "cell_type": "code",
   "execution_count": 8,
   "id": "8218e8a7",
   "metadata": {},
   "outputs": [
    {
     "name": "stdout",
     "output_type": "stream",
     "text": [
      "0.02%\n"
     ]
    }
   ],
   "source": [
    "#Check fiabilité du nombre de donnée : \n",
    "Marge_erreur_import=abs((((1313537+661778+669154+613409)-(3258460))/3258460))\n",
    "print(f\"{Marge_erreur_import:.2%}\")"
   ]
  },
  {
   "cell_type": "markdown",
   "id": "83319156",
   "metadata": {},
   "source": [
    "\n",
    "<div class=\"alert alert-block alert-warning\">\n",
    "<b> Remarque : </b> <br>\n",
    "Nos exports ce sont bien déroulés, on a comparé le nombre de mort de 2019 à 2023 avec le nombre total sur cette période fourni par les données théorique qu'on avait utilisé en début de projet. L'écart de 0,02% témoigne donc d'une fiabilité dans la source de donnée utilisée\n",
    "</div> "
   ]
  },
  {
   "cell_type": "code",
   "execution_count": 9,
   "id": "24eb1e83",
   "metadata": {},
   "outputs": [
    {
     "data": {
      "text/markdown": [
       "### 💠 Dimensions du dataset"
      ],
      "text/plain": [
       "<IPython.core.display.Markdown object>"
      ]
     },
     "metadata": {},
     "output_type": "display_data"
    },
    {
     "data": {
      "text/plain": [
       "(84, 3)"
      ]
     },
     "metadata": {},
     "output_type": "display_data"
    },
    {
     "data": {
      "text/markdown": [
       "### 💠 Visualisation des 5 premières lignes"
      ],
      "text/plain": [
       "<IPython.core.display.Markdown object>"
      ]
     },
     "metadata": {},
     "output_type": "display_data"
    },
    {
     "data": {
      "text/html": [
       "<div>\n",
       "<style scoped>\n",
       "    .dataframe tbody tr th:only-of-type {\n",
       "        vertical-align: middle;\n",
       "    }\n",
       "\n",
       "    .dataframe tbody tr th {\n",
       "        vertical-align: top;\n",
       "    }\n",
       "\n",
       "    .dataframe thead th {\n",
       "        text-align: right;\n",
       "    }\n",
       "</style>\n",
       "<table border=\"1\" class=\"dataframe\">\n",
       "  <thead>\n",
       "    <tr style=\"text-align: right;\">\n",
       "      <th></th>\n",
       "      <th>Année</th>\n",
       "      <th>Région</th>\n",
       "      <th>Population</th>\n",
       "    </tr>\n",
       "  </thead>\n",
       "  <tbody>\n",
       "    <tr>\n",
       "      <th>0</th>\n",
       "      <td>2018</td>\n",
       "      <td>Auvergne-Rhône-Alpes</td>\n",
       "      <td>7 994 459</td>\n",
       "    </tr>\n",
       "    <tr>\n",
       "      <th>1</th>\n",
       "      <td>2018</td>\n",
       "      <td>Bourgogne-Franche-Comté</td>\n",
       "      <td>2 807 807</td>\n",
       "    </tr>\n",
       "    <tr>\n",
       "      <th>2</th>\n",
       "      <td>2018</td>\n",
       "      <td>Bretagne</td>\n",
       "      <td>3 335 414</td>\n",
       "    </tr>\n",
       "    <tr>\n",
       "      <th>3</th>\n",
       "      <td>2018</td>\n",
       "      <td>Centre-Val de Loire</td>\n",
       "      <td>2 572 853</td>\n",
       "    </tr>\n",
       "    <tr>\n",
       "      <th>4</th>\n",
       "      <td>2018</td>\n",
       "      <td>Corse</td>\n",
       "      <td>338 554</td>\n",
       "    </tr>\n",
       "  </tbody>\n",
       "</table>\n",
       "</div>"
      ],
      "text/plain": [
       "   Année                  Région  Population \n",
       "0   2018     Auvergne-Rhône-Alpes   7 994 459\n",
       "1   2018  Bourgogne-Franche-Comté   2 807 807\n",
       "2   2018                 Bretagne   3 335 414\n",
       "3   2018      Centre-Val de Loire   2 572 853\n",
       "4   2018                    Corse     338 554"
      ]
     },
     "metadata": {},
     "output_type": "display_data"
    }
   ],
   "source": [
    "#Import de notre base de données population : \n",
    "chemin_Données_Population= Path(\"C:/Users/Pierre Monnin/OneDrive/Desktop/TIDE/Apprentissage statistique non linéaire/Projet/DATA BASE/Données_Population.csv\").resolve()\n",
    "Données_Population= Tools.import_csv(chemin_Données_Population,sep)"
   ]
  },
  {
   "cell_type": "markdown",
   "id": "cdd5a793",
   "metadata": {},
   "source": [
    "<div class=\"alert alert-block alert-warning\">\n",
    "<b> Remarque : </b> <br>\n",
    "Lors de la préparation sur Excel de CSV celui-ci a déjà été recettée, voilà pourquoi nous ne re checkons pas ici \n",
    "</div> "
   ]
  },
  {
   "cell_type": "markdown",
   "id": "460d0f1e",
   "metadata": {},
   "source": [
    "### 1.2 Montage base de donnée finale"
   ]
  },
  {
   "cell_type": "code",
   "execution_count": 10,
   "id": "3b1c3152",
   "metadata": {},
   "outputs": [
    {
     "data": {
      "text/markdown": [
       "### 💠 Dimensions du dataset"
      ],
      "text/plain": [
       "<IPython.core.display.Markdown object>"
      ]
     },
     "metadata": {},
     "output_type": "display_data"
    },
    {
     "data": {
      "text/plain": [
       "(3867815, 11)"
      ]
     },
     "metadata": {},
     "output_type": "display_data"
    },
    {
     "data": {
      "text/markdown": [
       "### 💠 Visualisation des 5 premières lignes"
      ],
      "text/plain": [
       "<IPython.core.display.Markdown object>"
      ]
     },
     "metadata": {},
     "output_type": "display_data"
    },
    {
     "data": {
      "text/html": [
       "<div>\n",
       "<style scoped>\n",
       "    .dataframe tbody tr th:only-of-type {\n",
       "        vertical-align: middle;\n",
       "    }\n",
       "\n",
       "    .dataframe tbody tr th {\n",
       "        vertical-align: top;\n",
       "    }\n",
       "\n",
       "    .dataframe thead th {\n",
       "        text-align: right;\n",
       "    }\n",
       "</style>\n",
       "<table border=\"1\" class=\"dataframe\">\n",
       "  <thead>\n",
       "    <tr style=\"text-align: right;\">\n",
       "      <th></th>\n",
       "      <th>ADEC</th>\n",
       "      <th>MDEC</th>\n",
       "      <th>JDEC</th>\n",
       "      <th>DEPDEC</th>\n",
       "      <th>COMDEC</th>\n",
       "      <th>ANAIS</th>\n",
       "      <th>MNAIS</th>\n",
       "      <th>JNAIS</th>\n",
       "      <th>SEXE</th>\n",
       "      <th>COMDOM</th>\n",
       "      <th>LIEUDEC2</th>\n",
       "    </tr>\n",
       "  </thead>\n",
       "  <tbody>\n",
       "    <tr>\n",
       "      <th>0</th>\n",
       "      <td>2018</td>\n",
       "      <td>1</td>\n",
       "      <td>1</td>\n",
       "      <td>974</td>\n",
       "      <td>97416</td>\n",
       "      <td>1925</td>\n",
       "      <td>10.0</td>\n",
       "      <td>20.0</td>\n",
       "      <td>F</td>\n",
       "      <td>97401</td>\n",
       "      <td>HopCli</td>\n",
       "    </tr>\n",
       "    <tr>\n",
       "      <th>1</th>\n",
       "      <td>2018</td>\n",
       "      <td>1</td>\n",
       "      <td>1</td>\n",
       "      <td>01</td>\n",
       "      <td>01034</td>\n",
       "      <td>1945</td>\n",
       "      <td>5.0</td>\n",
       "      <td>29.0</td>\n",
       "      <td>M</td>\n",
       "      <td>01034</td>\n",
       "      <td>HopCli</td>\n",
       "    </tr>\n",
       "    <tr>\n",
       "      <th>2</th>\n",
       "      <td>2018</td>\n",
       "      <td>1</td>\n",
       "      <td>1</td>\n",
       "      <td>02</td>\n",
       "      <td>02173</td>\n",
       "      <td>1963</td>\n",
       "      <td>7.0</td>\n",
       "      <td>6.0</td>\n",
       "      <td>M</td>\n",
       "      <td>02173</td>\n",
       "      <td>Non renseigne</td>\n",
       "    </tr>\n",
       "    <tr>\n",
       "      <th>3</th>\n",
       "      <td>2018</td>\n",
       "      <td>1</td>\n",
       "      <td>1</td>\n",
       "      <td>02</td>\n",
       "      <td>02691</td>\n",
       "      <td>1925</td>\n",
       "      <td>4.0</td>\n",
       "      <td>5.0</td>\n",
       "      <td>M</td>\n",
       "      <td>80811</td>\n",
       "      <td>HopCli</td>\n",
       "    </tr>\n",
       "    <tr>\n",
       "      <th>4</th>\n",
       "      <td>2018</td>\n",
       "      <td>1</td>\n",
       "      <td>1</td>\n",
       "      <td>02</td>\n",
       "      <td>02691</td>\n",
       "      <td>1929</td>\n",
       "      <td>10.0</td>\n",
       "      <td>22.0</td>\n",
       "      <td>F</td>\n",
       "      <td>80284</td>\n",
       "      <td>HopCli</td>\n",
       "    </tr>\n",
       "  </tbody>\n",
       "</table>\n",
       "</div>"
      ],
      "text/plain": [
       "   ADEC  MDEC  JDEC DEPDEC COMDEC  ANAIS  MNAIS  JNAIS SEXE COMDOM  \\\n",
       "0  2018     1     1    974  97416   1925   10.0   20.0    F  97401   \n",
       "1  2018     1     1     01  01034   1945    5.0   29.0    M  01034   \n",
       "2  2018     1     1     02  02173   1963    7.0    6.0    M  02173   \n",
       "3  2018     1     1     02  02691   1925    4.0    5.0    M  80811   \n",
       "4  2018     1     1     02  02691   1929   10.0   22.0    F  80284   \n",
       "\n",
       "        LIEUDEC2  \n",
       "0         HopCli  \n",
       "1         HopCli  \n",
       "2  Non renseigne  \n",
       "3         HopCli  \n",
       "4         HopCli  "
      ]
     },
     "metadata": {},
     "output_type": "display_data"
    }
   ],
   "source": [
    "#Concaténation des bases de données en une unique base : \n",
    "liste=[Base2018,Base2019,Base2020,Base2021,Base2022_2023]\n",
    "Data1= Tools.full_concatenate(liste,0)"
   ]
  },
  {
   "cell_type": "code",
   "execution_count": 11,
   "id": "294a9577",
   "metadata": {},
   "outputs": [
    {
     "data": {
      "text/plain": [
       "0"
      ]
     },
     "execution_count": 11,
     "metadata": {},
     "output_type": "execute_result"
    }
   ],
   "source": [
    "#Check concaténation :\n",
    "Check1 = len(Base2022_2023)+len(Base2021)+len(Base2020)+len(Base2019)+len(Base2018)-len(Data1)\n",
    "Check1"
   ]
  },
  {
   "cell_type": "code",
   "execution_count": 12,
   "id": "59fe18ee",
   "metadata": {},
   "outputs": [
    {
     "data": {
      "text/markdown": [
       "### 💠 Dimensions du dataset"
      ],
      "text/plain": [
       "<IPython.core.display.Markdown object>"
      ]
     },
     "metadata": {},
     "output_type": "display_data"
    },
    {
     "data": {
      "text/plain": [
       "(3867815, 3)"
      ]
     },
     "metadata": {},
     "output_type": "display_data"
    },
    {
     "data": {
      "text/markdown": [
       "### 💠 Visualisation des 5 premières lignes"
      ],
      "text/plain": [
       "<IPython.core.display.Markdown object>"
      ]
     },
     "metadata": {},
     "output_type": "display_data"
    },
    {
     "data": {
      "text/html": [
       "<div>\n",
       "<style scoped>\n",
       "    .dataframe tbody tr th:only-of-type {\n",
       "        vertical-align: middle;\n",
       "    }\n",
       "\n",
       "    .dataframe tbody tr th {\n",
       "        vertical-align: top;\n",
       "    }\n",
       "\n",
       "    .dataframe thead th {\n",
       "        text-align: right;\n",
       "    }\n",
       "</style>\n",
       "<table border=\"1\" class=\"dataframe\">\n",
       "  <thead>\n",
       "    <tr style=\"text-align: right;\">\n",
       "      <th></th>\n",
       "      <th>ADEC</th>\n",
       "      <th>MDEC</th>\n",
       "      <th>DEPDEC</th>\n",
       "    </tr>\n",
       "  </thead>\n",
       "  <tbody>\n",
       "    <tr>\n",
       "      <th>0</th>\n",
       "      <td>2018</td>\n",
       "      <td>1</td>\n",
       "      <td>974</td>\n",
       "    </tr>\n",
       "    <tr>\n",
       "      <th>1</th>\n",
       "      <td>2018</td>\n",
       "      <td>1</td>\n",
       "      <td>01</td>\n",
       "    </tr>\n",
       "    <tr>\n",
       "      <th>2</th>\n",
       "      <td>2018</td>\n",
       "      <td>1</td>\n",
       "      <td>02</td>\n",
       "    </tr>\n",
       "    <tr>\n",
       "      <th>3</th>\n",
       "      <td>2018</td>\n",
       "      <td>1</td>\n",
       "      <td>02</td>\n",
       "    </tr>\n",
       "    <tr>\n",
       "      <th>4</th>\n",
       "      <td>2018</td>\n",
       "      <td>1</td>\n",
       "      <td>02</td>\n",
       "    </tr>\n",
       "  </tbody>\n",
       "</table>\n",
       "</div>"
      ],
      "text/plain": [
       "   ADEC  MDEC DEPDEC\n",
       "0  2018     1    974\n",
       "1  2018     1     01\n",
       "2  2018     1     02\n",
       "3  2018     1     02\n",
       "4  2018     1     02"
      ]
     },
     "metadata": {},
     "output_type": "display_data"
    }
   ],
   "source": [
    "#On va d'abord supprimer nos colonnes inutiles à l'analyse:\n",
    "liste=[\"COMDEC\",\"ANAIS\",\"MNAIS\",\"JNAIS\",\"SEXE\",\"COMDOM\",\"LIEUDEC2\",\"JDEC\"]\n",
    "Data2 = Tools.suppression_colonnes(Data1,liste)"
   ]
  },
  {
   "cell_type": "code",
   "execution_count": 13,
   "id": "ab69c78e",
   "metadata": {},
   "outputs": [
    {
     "data": {
      "text/plain": [
       "0"
      ]
     },
     "execution_count": 13,
     "metadata": {},
     "output_type": "execute_result"
    }
   ],
   "source": [
    "#Check Data2 :\n",
    "Check2 = len(Data2)-len(Data1)\n",
    "Check2"
   ]
  },
  {
   "cell_type": "code",
   "execution_count": 14,
   "id": "f21974db",
   "metadata": {},
   "outputs": [
    {
     "name": "stdout",
     "output_type": "stream",
     "text": [
      "[1]\n"
     ]
    }
   ],
   "source": [
    "#On ajoute une variable Décès qui vaut 1 à chaque ligne\n",
    "Data2[\"Décès\"]=1\n",
    "print(Data2[\"Décès\"].unique())#Check\n"
   ]
  },
  {
   "cell_type": "code",
   "execution_count": 15,
   "id": "26edd777",
   "metadata": {},
   "outputs": [
    {
     "name": "stdout",
     "output_type": "stream",
     "text": [
      "['Outre-Mer' 'Auvergne-Rhône-Alpes' 'Hauts-de-France'\n",
      " \"Provence-Alpes-Côte d'Azur\" 'Grand Est' 'Occitanie' 'Normandie'\n",
      " 'Nouvelle-Aquitaine' 'Centre-Val de Loire' 'Bourgogne-Franche-Comté'\n",
      " 'Bretagne' 'Corse' 'Pays de la Loire' 'Île-de-France']\n"
     ]
    }
   ],
   "source": [
    "#On va créer une variable région : \n",
    "#D'abord on importe un dictionnaire des régions en fonction de leur département (en numérique):\n",
    "dept_to_region = {\n",
    "    # Île-de-France\n",
    "    \"75\": \"Île-de-France\", \"77\": \"Île-de-France\", \"78\": \"Île-de-France\",\n",
    "    \"91\": \"Île-de-France\", \"92\": \"Île-de-France\", \"93\": \"Île-de-France\",\n",
    "    \"94\": \"Île-de-France\", \"95\": \"Île-de-France\",\n",
    "\n",
    "    # Grand Est\n",
    "    \"08\": \"Grand Est\", \"10\": \"Grand Est\", \"51\": \"Grand Est\", \"52\": \"Grand Est\",\n",
    "    \"54\": \"Grand Est\", \"55\": \"Grand Est\", \"57\": \"Grand Est\", \"67\": \"Grand Est\",\n",
    "    \"68\": \"Grand Est\", \"88\": \"Grand Est\",\n",
    "\n",
    "    # Hauts-de-France\n",
    "    \"02\": \"Hauts-de-France\", \"59\": \"Hauts-de-France\", \"60\": \"Hauts-de-France\",\n",
    "    \"62\": \"Hauts-de-France\", \"80\": \"Hauts-de-France\",\n",
    "\n",
    "    # Normandie\n",
    "    \"14\": \"Normandie\", \"27\": \"Normandie\", \"50\": \"Normandie\", \n",
    "    \"61\": \"Normandie\", \"76\": \"Normandie\",\n",
    "\n",
    "    # Bretagne\n",
    "    \"22\": \"Bretagne\", \"29\": \"Bretagne\", \"35\": \"Bretagne\", \"56\": \"Bretagne\",\n",
    "\n",
    "    # Pays de la Loire\n",
    "    \"44\": \"Pays de la Loire\", \"49\": \"Pays de la Loire\", \"53\": \"Pays de la Loire\",\n",
    "    \"72\": \"Pays de la Loire\", \"85\": \"Pays de la Loire\",\n",
    "\n",
    "    # Centre-Val de Loire\n",
    "    \"18\": \"Centre-Val de Loire\", \"28\": \"Centre-Val de Loire\", \"36\": \"Centre-Val de Loire\",\n",
    "    \"37\": \"Centre-Val de Loire\", \"41\": \"Centre-Val de Loire\", \"45\": \"Centre-Val de Loire\",\n",
    "\n",
    "    # Bourgogne-Franche-Comté\n",
    "    \"21\": \"Bourgogne-Franche-Comté\", \"25\": \"Bourgogne-Franche-Comté\",\n",
    "    \"39\": \"Bourgogne-Franche-Comté\", \"58\": \"Bourgogne-Franche-Comté\",\n",
    "    \"70\": \"Bourgogne-Franche-Comté\", \"71\": \"Bourgogne-Franche-Comté\",\n",
    "    \"89\": \"Bourgogne-Franche-Comté\", \"90\": \"Bourgogne-Franche-Comté\",\n",
    "\n",
    "    # Nouvelle-Aquitaine\n",
    "    \"16\": \"Nouvelle-Aquitaine\", \"17\": \"Nouvelle-Aquitaine\", \"19\": \"Nouvelle-Aquitaine\",\n",
    "    \"23\": \"Nouvelle-Aquitaine\", \"24\": \"Nouvelle-Aquitaine\", \"33\": \"Nouvelle-Aquitaine\",\n",
    "    \"40\": \"Nouvelle-Aquitaine\", \"47\": \"Nouvelle-Aquitaine\", \"64\": \"Nouvelle-Aquitaine\",\n",
    "    \"79\": \"Nouvelle-Aquitaine\", \"86\": \"Nouvelle-Aquitaine\", \"87\": \"Nouvelle-Aquitaine\",\n",
    "\n",
    "    # Occitanie\n",
    "    \"09\": \"Occitanie\", \"11\": \"Occitanie\", \"12\": \"Occitanie\", \"30\": \"Occitanie\",\n",
    "    \"31\": \"Occitanie\", \"32\": \"Occitanie\", \"34\": \"Occitanie\", \"46\": \"Occitanie\",\n",
    "    \"48\": \"Occitanie\", \"65\": \"Occitanie\", \"66\": \"Occitanie\", \"81\": \"Occitanie\",\n",
    "    \"82\": \"Occitanie\",\n",
    "\n",
    "    # Auvergne-Rhône-Alpes\n",
    "    \"01\": \"Auvergne-Rhône-Alpes\", \"03\": \"Auvergne-Rhône-Alpes\", \"07\": \"Auvergne-Rhône-Alpes\",\n",
    "    \"15\": \"Auvergne-Rhône-Alpes\", \"26\": \"Auvergne-Rhône-Alpes\", \"38\": \"Auvergne-Rhône-Alpes\",\n",
    "    \"42\": \"Auvergne-Rhône-Alpes\", \"43\": \"Auvergne-Rhône-Alpes\", \"63\": \"Auvergne-Rhône-Alpes\",\n",
    "    \"69\": \"Auvergne-Rhône-Alpes\", \"73\": \"Auvergne-Rhône-Alpes\", \"74\": \"Auvergne-Rhône-Alpes\",\n",
    "\n",
    "    # Provence-Alpes-Côte d'Azur\n",
    "    \"04\": \"Provence-Alpes-Côte d'Azur\", \"05\": \"Provence-Alpes-Côte d'Azur\",\n",
    "    \"06\": \"Provence-Alpes-Côte d'Azur\", \"13\": \"Provence-Alpes-Côte d'Azur\",\n",
    "    \"83\": \"Provence-Alpes-Côte d'Azur\", \"84\": \"Provence-Alpes-Côte d'Azur\",\n",
    "\n",
    "    # Corse\n",
    "    \"2A\": \"Corse\", \"2B\": \"Corse\",\n",
    "\n",
    "    # Outre-Mer\n",
    "    \"971\": \"Outre-Mer\", \"972\": \"Outre-Mer\", \"973\": \"Outre-Mer\",\n",
    "    \"974\": \"Outre-Mer\", \"976\": \"Outre-Mer\"\n",
    "}\n",
    "#On ajoute ensuite notre variable région au dataset: \n",
    "Data2[\"Région\"] = Data2[\"DEPDEC\"].map(dept_to_region)\n",
    "print(Data2[\"Région\"].unique())#Check"
   ]
  },
  {
   "cell_type": "code",
   "execution_count": 16,
   "id": "2e377647",
   "metadata": {},
   "outputs": [
    {
     "data": {
      "text/markdown": [
       "### 💠 Dimensions du dataset"
      ],
      "text/plain": [
       "<IPython.core.display.Markdown object>"
      ]
     },
     "metadata": {},
     "output_type": "display_data"
    },
    {
     "data": {
      "text/plain": [
       "(3867815, 4)"
      ]
     },
     "metadata": {},
     "output_type": "display_data"
    },
    {
     "data": {
      "text/markdown": [
       "### 💠 Visualisation des 5 premières lignes"
      ],
      "text/plain": [
       "<IPython.core.display.Markdown object>"
      ]
     },
     "metadata": {},
     "output_type": "display_data"
    },
    {
     "data": {
      "text/html": [
       "<div>\n",
       "<style scoped>\n",
       "    .dataframe tbody tr th:only-of-type {\n",
       "        vertical-align: middle;\n",
       "    }\n",
       "\n",
       "    .dataframe tbody tr th {\n",
       "        vertical-align: top;\n",
       "    }\n",
       "\n",
       "    .dataframe thead th {\n",
       "        text-align: right;\n",
       "    }\n",
       "</style>\n",
       "<table border=\"1\" class=\"dataframe\">\n",
       "  <thead>\n",
       "    <tr style=\"text-align: right;\">\n",
       "      <th></th>\n",
       "      <th>ADEC</th>\n",
       "      <th>MDEC</th>\n",
       "      <th>Décès</th>\n",
       "      <th>Région</th>\n",
       "    </tr>\n",
       "  </thead>\n",
       "  <tbody>\n",
       "    <tr>\n",
       "      <th>0</th>\n",
       "      <td>2018</td>\n",
       "      <td>1</td>\n",
       "      <td>1</td>\n",
       "      <td>Outre-Mer</td>\n",
       "    </tr>\n",
       "    <tr>\n",
       "      <th>1</th>\n",
       "      <td>2018</td>\n",
       "      <td>1</td>\n",
       "      <td>1</td>\n",
       "      <td>Auvergne-Rhône-Alpes</td>\n",
       "    </tr>\n",
       "    <tr>\n",
       "      <th>2</th>\n",
       "      <td>2018</td>\n",
       "      <td>1</td>\n",
       "      <td>1</td>\n",
       "      <td>Hauts-de-France</td>\n",
       "    </tr>\n",
       "    <tr>\n",
       "      <th>3</th>\n",
       "      <td>2018</td>\n",
       "      <td>1</td>\n",
       "      <td>1</td>\n",
       "      <td>Hauts-de-France</td>\n",
       "    </tr>\n",
       "    <tr>\n",
       "      <th>4</th>\n",
       "      <td>2018</td>\n",
       "      <td>1</td>\n",
       "      <td>1</td>\n",
       "      <td>Hauts-de-France</td>\n",
       "    </tr>\n",
       "  </tbody>\n",
       "</table>\n",
       "</div>"
      ],
      "text/plain": [
       "   ADEC  MDEC  Décès                Région\n",
       "0  2018     1      1             Outre-Mer\n",
       "1  2018     1      1  Auvergne-Rhône-Alpes\n",
       "2  2018     1      1       Hauts-de-France\n",
       "3  2018     1      1       Hauts-de-France\n",
       "4  2018     1      1       Hauts-de-France"
      ]
     },
     "metadata": {},
     "output_type": "display_data"
    }
   ],
   "source": [
    "liste = [\"DEPDEC\"]\n",
    "Data3= Tools.suppression_colonnes(Data2,liste)"
   ]
  },
  {
   "cell_type": "code",
   "execution_count": 17,
   "id": "313129e6",
   "metadata": {},
   "outputs": [],
   "source": [
    "#On renomme notre variable mois en lettre:\n",
    "mois_map = {\n",
    "    1: \"Janvier\",\n",
    "    2: \"Février\",\n",
    "    3: \"Mars\",\n",
    "    4: \"Avril\",\n",
    "    5: \"Mai\",\n",
    "    6: \"Juin\",\n",
    "    7: \"Juillet\",\n",
    "    8: \"Août\",\n",
    "    9: \"Septembre\",\n",
    "    10: \"Octobre\",\n",
    "    11: \"Novembre\",\n",
    "    12: \"Décembre\"\n",
    "}\n",
    "Data3[\"Mois\"] = Data3[\"MDEC\"].map(mois_map)\n"
   ]
  },
  {
   "cell_type": "code",
   "execution_count": 18,
   "id": "992e5f44",
   "metadata": {},
   "outputs": [
    {
     "data": {
      "text/markdown": [
       "### 💠 Visualisation des 5 premières lignes"
      ],
      "text/plain": [
       "<IPython.core.display.Markdown object>"
      ]
     },
     "metadata": {},
     "output_type": "display_data"
    },
    {
     "data": {
      "text/html": [
       "<div>\n",
       "<style scoped>\n",
       "    .dataframe tbody tr th:only-of-type {\n",
       "        vertical-align: middle;\n",
       "    }\n",
       "\n",
       "    .dataframe tbody tr th {\n",
       "        vertical-align: top;\n",
       "    }\n",
       "\n",
       "    .dataframe thead th {\n",
       "        text-align: right;\n",
       "    }\n",
       "</style>\n",
       "<table border=\"1\" class=\"dataframe\">\n",
       "  <thead>\n",
       "    <tr style=\"text-align: right;\">\n",
       "      <th></th>\n",
       "      <th>Année</th>\n",
       "      <th>MDEC</th>\n",
       "      <th>Décès</th>\n",
       "      <th>Région</th>\n",
       "      <th>Mois</th>\n",
       "    </tr>\n",
       "  </thead>\n",
       "  <tbody>\n",
       "    <tr>\n",
       "      <th>0</th>\n",
       "      <td>2018</td>\n",
       "      <td>1</td>\n",
       "      <td>1</td>\n",
       "      <td>Outre-Mer</td>\n",
       "      <td>Janvier</td>\n",
       "    </tr>\n",
       "    <tr>\n",
       "      <th>1</th>\n",
       "      <td>2018</td>\n",
       "      <td>1</td>\n",
       "      <td>1</td>\n",
       "      <td>Auvergne-Rhône-Alpes</td>\n",
       "      <td>Janvier</td>\n",
       "    </tr>\n",
       "    <tr>\n",
       "      <th>2</th>\n",
       "      <td>2018</td>\n",
       "      <td>1</td>\n",
       "      <td>1</td>\n",
       "      <td>Hauts-de-France</td>\n",
       "      <td>Janvier</td>\n",
       "    </tr>\n",
       "    <tr>\n",
       "      <th>3</th>\n",
       "      <td>2018</td>\n",
       "      <td>1</td>\n",
       "      <td>1</td>\n",
       "      <td>Hauts-de-France</td>\n",
       "      <td>Janvier</td>\n",
       "    </tr>\n",
       "    <tr>\n",
       "      <th>4</th>\n",
       "      <td>2018</td>\n",
       "      <td>1</td>\n",
       "      <td>1</td>\n",
       "      <td>Hauts-de-France</td>\n",
       "      <td>Janvier</td>\n",
       "    </tr>\n",
       "  </tbody>\n",
       "</table>\n",
       "</div>"
      ],
      "text/plain": [
       "   Année  MDEC  Décès                Région     Mois\n",
       "0   2018     1      1             Outre-Mer  Janvier\n",
       "1   2018     1      1  Auvergne-Rhône-Alpes  Janvier\n",
       "2   2018     1      1       Hauts-de-France  Janvier\n",
       "3   2018     1      1       Hauts-de-France  Janvier\n",
       "4   2018     1      1       Hauts-de-France  Janvier"
      ]
     },
     "metadata": {},
     "output_type": "display_data"
    }
   ],
   "source": [
    "#On va maintenant renommer notre variable année : \n",
    "Data3 = Data3.rename(columns={\n",
    "    \"ADEC\": \"Année\",\n",
    "})\n",
    "display(Markdown(\"### 💠 Visualisation des 5 premières lignes\"))\n",
    "pd.set_option('display.max_columns', None)\n",
    "display(Data3.head(5))"
   ]
  },
  {
   "cell_type": "code",
   "execution_count": 19,
   "id": "b4aac1fc",
   "metadata": {},
   "outputs": [
    {
     "data": {
      "text/markdown": [
       "### 💠 Dimensions du dataset"
      ],
      "text/plain": [
       "<IPython.core.display.Markdown object>"
      ]
     },
     "metadata": {},
     "output_type": "display_data"
    },
    {
     "data": {
      "text/plain": [
       "(1008, 5)"
      ]
     },
     "metadata": {},
     "output_type": "display_data"
    },
    {
     "data": {
      "text/markdown": [
       "### 💠 Visualisation des 5 premières lignes"
      ],
      "text/plain": [
       "<IPython.core.display.Markdown object>"
      ]
     },
     "metadata": {},
     "output_type": "display_data"
    },
    {
     "data": {
      "text/html": [
       "<div>\n",
       "<style scoped>\n",
       "    .dataframe tbody tr th:only-of-type {\n",
       "        vertical-align: middle;\n",
       "    }\n",
       "\n",
       "    .dataframe tbody tr th {\n",
       "        vertical-align: top;\n",
       "    }\n",
       "\n",
       "    .dataframe thead th {\n",
       "        text-align: right;\n",
       "    }\n",
       "</style>\n",
       "<table border=\"1\" class=\"dataframe\">\n",
       "  <thead>\n",
       "    <tr style=\"text-align: right;\">\n",
       "      <th></th>\n",
       "      <th>Année</th>\n",
       "      <th>Région</th>\n",
       "      <th>Mois</th>\n",
       "      <th>MDEC</th>\n",
       "      <th>Décès</th>\n",
       "    </tr>\n",
       "  </thead>\n",
       "  <tbody>\n",
       "    <tr>\n",
       "      <th>0</th>\n",
       "      <td>2018</td>\n",
       "      <td>Auvergne-Rhône-Alpes</td>\n",
       "      <td>Août</td>\n",
       "      <td>8</td>\n",
       "      <td>5475</td>\n",
       "    </tr>\n",
       "    <tr>\n",
       "      <th>1</th>\n",
       "      <td>2018</td>\n",
       "      <td>Auvergne-Rhône-Alpes</td>\n",
       "      <td>Avril</td>\n",
       "      <td>4</td>\n",
       "      <td>5841</td>\n",
       "    </tr>\n",
       "    <tr>\n",
       "      <th>2</th>\n",
       "      <td>2018</td>\n",
       "      <td>Auvergne-Rhône-Alpes</td>\n",
       "      <td>Décembre</td>\n",
       "      <td>12</td>\n",
       "      <td>6054</td>\n",
       "    </tr>\n",
       "    <tr>\n",
       "      <th>3</th>\n",
       "      <td>2018</td>\n",
       "      <td>Auvergne-Rhône-Alpes</td>\n",
       "      <td>Février</td>\n",
       "      <td>2</td>\n",
       "      <td>5994</td>\n",
       "    </tr>\n",
       "    <tr>\n",
       "      <th>4</th>\n",
       "      <td>2018</td>\n",
       "      <td>Auvergne-Rhône-Alpes</td>\n",
       "      <td>Janvier</td>\n",
       "      <td>1</td>\n",
       "      <td>6925</td>\n",
       "    </tr>\n",
       "  </tbody>\n",
       "</table>\n",
       "</div>"
      ],
      "text/plain": [
       "   Année                Région      Mois  MDEC  Décès\n",
       "0   2018  Auvergne-Rhône-Alpes      Août     8   5475\n",
       "1   2018  Auvergne-Rhône-Alpes     Avril     4   5841\n",
       "2   2018  Auvergne-Rhône-Alpes  Décembre    12   6054\n",
       "3   2018  Auvergne-Rhône-Alpes   Février     2   5994\n",
       "4   2018  Auvergne-Rhône-Alpes   Janvier     1   6925"
      ]
     },
     "metadata": {},
     "output_type": "display_data"
    }
   ],
   "source": [
    "liste=[\"Année\",\"Région\",\"Mois\",\"MDEC\"]\n",
    "Base_de_Données1= Tools.groupeby(Data3,liste,\"Décès\")"
   ]
  },
  {
   "cell_type": "markdown",
   "id": "b7dc9062",
   "metadata": {},
   "source": [
    "### 1.3 Création de la variable taux de mortalité"
   ]
  },
  {
   "cell_type": "code",
   "execution_count": 20,
   "id": "4a78cd14",
   "metadata": {},
   "outputs": [
    {
     "name": "stdout",
     "output_type": "stream",
     "text": [
      "['Année', 'Région', 'Population']\n",
      "['Année', 'Région', 'Mois', 'MDEC', 'Décès']\n"
     ]
    }
   ],
   "source": [
    "#Nettoyage du nom des colonnes pollués par des espaces\n",
    "for df in [Données_Population]:\n",
    "    df.columns = (df.columns\n",
    "                  .str.replace('\\xa0', ' ', regex=False)  # NBSP\n",
    "                  .str.strip())\n",
    "print(Données_Population.columns.tolist())\n",
    "print(Base_de_Données1.columns.tolist())"
   ]
  },
  {
   "cell_type": "code",
   "execution_count": 21,
   "id": "862c0666",
   "metadata": {},
   "outputs": [
    {
     "data": {
      "text/markdown": [
       "### 💠 Dimensions du dataset"
      ],
      "text/plain": [
       "<IPython.core.display.Markdown object>"
      ]
     },
     "metadata": {},
     "output_type": "display_data"
    },
    {
     "data": {
      "text/plain": [
       "(1008, 6)"
      ]
     },
     "metadata": {},
     "output_type": "display_data"
    },
    {
     "data": {
      "text/markdown": [
       "### 💠 Visualisation des 5 premières lignes"
      ],
      "text/plain": [
       "<IPython.core.display.Markdown object>"
      ]
     },
     "metadata": {},
     "output_type": "display_data"
    },
    {
     "data": {
      "text/html": [
       "<div>\n",
       "<style scoped>\n",
       "    .dataframe tbody tr th:only-of-type {\n",
       "        vertical-align: middle;\n",
       "    }\n",
       "\n",
       "    .dataframe tbody tr th {\n",
       "        vertical-align: top;\n",
       "    }\n",
       "\n",
       "    .dataframe thead th {\n",
       "        text-align: right;\n",
       "    }\n",
       "</style>\n",
       "<table border=\"1\" class=\"dataframe\">\n",
       "  <thead>\n",
       "    <tr style=\"text-align: right;\">\n",
       "      <th></th>\n",
       "      <th>Année</th>\n",
       "      <th>Région</th>\n",
       "      <th>Mois</th>\n",
       "      <th>MDEC</th>\n",
       "      <th>Décès</th>\n",
       "      <th>Population</th>\n",
       "    </tr>\n",
       "  </thead>\n",
       "  <tbody>\n",
       "    <tr>\n",
       "      <th>0</th>\n",
       "      <td>2018</td>\n",
       "      <td>Auvergne-Rhône-Alpes</td>\n",
       "      <td>Août</td>\n",
       "      <td>8</td>\n",
       "      <td>5475</td>\n",
       "      <td>7 994 459</td>\n",
       "    </tr>\n",
       "    <tr>\n",
       "      <th>1</th>\n",
       "      <td>2018</td>\n",
       "      <td>Auvergne-Rhône-Alpes</td>\n",
       "      <td>Avril</td>\n",
       "      <td>4</td>\n",
       "      <td>5841</td>\n",
       "      <td>7 994 459</td>\n",
       "    </tr>\n",
       "    <tr>\n",
       "      <th>2</th>\n",
       "      <td>2018</td>\n",
       "      <td>Auvergne-Rhône-Alpes</td>\n",
       "      <td>Décembre</td>\n",
       "      <td>12</td>\n",
       "      <td>6054</td>\n",
       "      <td>7 994 459</td>\n",
       "    </tr>\n",
       "    <tr>\n",
       "      <th>3</th>\n",
       "      <td>2018</td>\n",
       "      <td>Auvergne-Rhône-Alpes</td>\n",
       "      <td>Février</td>\n",
       "      <td>2</td>\n",
       "      <td>5994</td>\n",
       "      <td>7 994 459</td>\n",
       "    </tr>\n",
       "    <tr>\n",
       "      <th>4</th>\n",
       "      <td>2018</td>\n",
       "      <td>Auvergne-Rhône-Alpes</td>\n",
       "      <td>Janvier</td>\n",
       "      <td>1</td>\n",
       "      <td>6925</td>\n",
       "      <td>7 994 459</td>\n",
       "    </tr>\n",
       "  </tbody>\n",
       "</table>\n",
       "</div>"
      ],
      "text/plain": [
       "   Année                Région      Mois  MDEC  Décès Population\n",
       "0   2018  Auvergne-Rhône-Alpes      Août     8   5475  7 994 459\n",
       "1   2018  Auvergne-Rhône-Alpes     Avril     4   5841  7 994 459\n",
       "2   2018  Auvergne-Rhône-Alpes  Décembre    12   6054  7 994 459\n",
       "3   2018  Auvergne-Rhône-Alpes   Février     2   5994  7 994 459\n",
       "4   2018  Auvergne-Rhône-Alpes   Janvier     1   6925  7 994 459"
      ]
     },
     "metadata": {},
     "output_type": "display_data"
    }
   ],
   "source": [
    "# jointure de la variable population par Année/région: \n",
    "liste=[\"Année\",\"Région\",\"Population\"]\n",
    "clé=[\"Année\",\"Région\"]\n",
    "Base_de_Données2= Tools.left_join(Base_de_Données1,Données_Population,liste,clé)"
   ]
  },
  {
   "cell_type": "code",
   "execution_count": 22,
   "id": "e748c2fb",
   "metadata": {},
   "outputs": [
    {
     "name": "stdout",
     "output_type": "stream",
     "text": [
      "<class 'pandas.core.frame.DataFrame'>\n",
      "RangeIndex: 1008 entries, 0 to 1007\n",
      "Data columns (total 6 columns):\n",
      " #   Column      Non-Null Count  Dtype \n",
      "---  ------      --------------  ----- \n",
      " 0   Année       1008 non-null   int64 \n",
      " 1   Région      1008 non-null   object\n",
      " 2   Mois        1008 non-null   object\n",
      " 3   MDEC        1008 non-null   int64 \n",
      " 4   Décès       1008 non-null   int64 \n",
      " 5   Population  996 non-null    object\n",
      "dtypes: int64(3), object(3)\n",
      "memory usage: 47.4+ KB\n"
     ]
    }
   ],
   "source": [
    "Base_de_Données2.info()"
   ]
  },
  {
   "cell_type": "code",
   "execution_count": 23,
   "id": "6e7a1827",
   "metadata": {},
   "outputs": [
    {
     "data": {
      "text/markdown": [
       "### 💠 Visualisation des 5 premières lignes"
      ],
      "text/plain": [
       "<IPython.core.display.Markdown object>"
      ]
     },
     "metadata": {},
     "output_type": "display_data"
    },
    {
     "data": {
      "text/html": [
       "<div>\n",
       "<style scoped>\n",
       "    .dataframe tbody tr th:only-of-type {\n",
       "        vertical-align: middle;\n",
       "    }\n",
       "\n",
       "    .dataframe tbody tr th {\n",
       "        vertical-align: top;\n",
       "    }\n",
       "\n",
       "    .dataframe thead th {\n",
       "        text-align: right;\n",
       "    }\n",
       "</style>\n",
       "<table border=\"1\" class=\"dataframe\">\n",
       "  <thead>\n",
       "    <tr style=\"text-align: right;\">\n",
       "      <th></th>\n",
       "      <th>Année</th>\n",
       "      <th>Région</th>\n",
       "      <th>Mois</th>\n",
       "      <th>MDEC</th>\n",
       "      <th>Décès</th>\n",
       "      <th>Population</th>\n",
       "    </tr>\n",
       "  </thead>\n",
       "  <tbody>\n",
       "    <tr>\n",
       "      <th>0</th>\n",
       "      <td>2018</td>\n",
       "      <td>Auvergne-Rhône-Alpes</td>\n",
       "      <td>Août</td>\n",
       "      <td>8</td>\n",
       "      <td>5475</td>\n",
       "      <td>7994459</td>\n",
       "    </tr>\n",
       "    <tr>\n",
       "      <th>1</th>\n",
       "      <td>2018</td>\n",
       "      <td>Auvergne-Rhône-Alpes</td>\n",
       "      <td>Avril</td>\n",
       "      <td>4</td>\n",
       "      <td>5841</td>\n",
       "      <td>7994459</td>\n",
       "    </tr>\n",
       "    <tr>\n",
       "      <th>2</th>\n",
       "      <td>2018</td>\n",
       "      <td>Auvergne-Rhône-Alpes</td>\n",
       "      <td>Décembre</td>\n",
       "      <td>12</td>\n",
       "      <td>6054</td>\n",
       "      <td>7994459</td>\n",
       "    </tr>\n",
       "    <tr>\n",
       "      <th>3</th>\n",
       "      <td>2018</td>\n",
       "      <td>Auvergne-Rhône-Alpes</td>\n",
       "      <td>Février</td>\n",
       "      <td>2</td>\n",
       "      <td>5994</td>\n",
       "      <td>7994459</td>\n",
       "    </tr>\n",
       "    <tr>\n",
       "      <th>4</th>\n",
       "      <td>2018</td>\n",
       "      <td>Auvergne-Rhône-Alpes</td>\n",
       "      <td>Janvier</td>\n",
       "      <td>1</td>\n",
       "      <td>6925</td>\n",
       "      <td>7994459</td>\n",
       "    </tr>\n",
       "  </tbody>\n",
       "</table>\n",
       "</div>"
      ],
      "text/plain": [
       "   Année                Région      Mois  MDEC  Décès Population\n",
       "0   2018  Auvergne-Rhône-Alpes      Août     8   5475    7994459\n",
       "1   2018  Auvergne-Rhône-Alpes     Avril     4   5841    7994459\n",
       "2   2018  Auvergne-Rhône-Alpes  Décembre    12   6054    7994459\n",
       "3   2018  Auvergne-Rhône-Alpes   Février     2   5994    7994459\n",
       "4   2018  Auvergne-Rhône-Alpes   Janvier     1   6925    7994459"
      ]
     },
     "metadata": {},
     "output_type": "display_data"
    }
   ],
   "source": [
    "#Correction de Population au format object en format int64 afin de calculer le taux: \n",
    "Base_de_Données2[\"Population\"] = Base_de_Données2[\"Population\"] .astype(str) \\\n",
    "                                          .str.replace(r\"\\D\", \"\", regex=True) \\\n",
    "                                         .replace(\"\", \"0\")  \n",
    "display(Markdown(\"### 💠 Visualisation des 5 premières lignes\"))\n",
    "pd.set_option('display.max_columns', None)\n",
    "display(Base_de_Données2.head(5))\n",
    "Base_de_Données2[\"Population\"] = pd.to_numeric(Base_de_Données2[\"Population\"], errors=\"coerce\")"
   ]
  },
  {
   "cell_type": "code",
   "execution_count": 24,
   "id": "b5383dd2",
   "metadata": {},
   "outputs": [
    {
     "name": "stdout",
     "output_type": "stream",
     "text": [
      "<class 'pandas.core.frame.DataFrame'>\n",
      "RangeIndex: 1008 entries, 0 to 1007\n",
      "Data columns (total 6 columns):\n",
      " #   Column      Non-Null Count  Dtype \n",
      "---  ------      --------------  ----- \n",
      " 0   Année       1008 non-null   int64 \n",
      " 1   Région      1008 non-null   object\n",
      " 2   Mois        1008 non-null   object\n",
      " 3   MDEC        1008 non-null   int64 \n",
      " 4   Décès       1008 non-null   int64 \n",
      " 5   Population  1008 non-null   int64 \n",
      "dtypes: int64(4), object(2)\n",
      "memory usage: 47.4+ KB\n"
     ]
    }
   ],
   "source": [
    "Base_de_Données2.info()"
   ]
  },
  {
   "cell_type": "code",
   "execution_count": 25,
   "id": "d34baf88",
   "metadata": {},
   "outputs": [],
   "source": [
    "#Création de la variable taux de mortalité: \n",
    "Base_de_Données2[\"Taux_de_Mortalité\"] = Base_de_Données2[\"Décès\"] / Base_de_Données2[\"Population\"]\n"
   ]
  },
  {
   "cell_type": "code",
   "execution_count": 26,
   "id": "75d63e97",
   "metadata": {},
   "outputs": [
    {
     "data": {
      "text/markdown": [
       "### 💠 Dimensions du dataset"
      ],
      "text/plain": [
       "<IPython.core.display.Markdown object>"
      ]
     },
     "metadata": {},
     "output_type": "display_data"
    },
    {
     "data": {
      "text/plain": [
       "(1008, 5)"
      ]
     },
     "metadata": {},
     "output_type": "display_data"
    },
    {
     "data": {
      "text/markdown": [
       "### 💠 Visualisation des 5 premières lignes"
      ],
      "text/plain": [
       "<IPython.core.display.Markdown object>"
      ]
     },
     "metadata": {},
     "output_type": "display_data"
    },
    {
     "data": {
      "text/html": [
       "<div>\n",
       "<style scoped>\n",
       "    .dataframe tbody tr th:only-of-type {\n",
       "        vertical-align: middle;\n",
       "    }\n",
       "\n",
       "    .dataframe tbody tr th {\n",
       "        vertical-align: top;\n",
       "    }\n",
       "\n",
       "    .dataframe thead th {\n",
       "        text-align: right;\n",
       "    }\n",
       "</style>\n",
       "<table border=\"1\" class=\"dataframe\">\n",
       "  <thead>\n",
       "    <tr style=\"text-align: right;\">\n",
       "      <th></th>\n",
       "      <th>Année</th>\n",
       "      <th>Région</th>\n",
       "      <th>Mois</th>\n",
       "      <th>MDEC</th>\n",
       "      <th>Taux_de_Mortalité</th>\n",
       "    </tr>\n",
       "  </thead>\n",
       "  <tbody>\n",
       "    <tr>\n",
       "      <th>0</th>\n",
       "      <td>2018</td>\n",
       "      <td>Auvergne-Rhône-Alpes</td>\n",
       "      <td>Août</td>\n",
       "      <td>8</td>\n",
       "      <td>0.000685</td>\n",
       "    </tr>\n",
       "    <tr>\n",
       "      <th>1</th>\n",
       "      <td>2018</td>\n",
       "      <td>Auvergne-Rhône-Alpes</td>\n",
       "      <td>Avril</td>\n",
       "      <td>4</td>\n",
       "      <td>0.000731</td>\n",
       "    </tr>\n",
       "    <tr>\n",
       "      <th>2</th>\n",
       "      <td>2018</td>\n",
       "      <td>Auvergne-Rhône-Alpes</td>\n",
       "      <td>Décembre</td>\n",
       "      <td>12</td>\n",
       "      <td>0.000757</td>\n",
       "    </tr>\n",
       "    <tr>\n",
       "      <th>3</th>\n",
       "      <td>2018</td>\n",
       "      <td>Auvergne-Rhône-Alpes</td>\n",
       "      <td>Février</td>\n",
       "      <td>2</td>\n",
       "      <td>0.000750</td>\n",
       "    </tr>\n",
       "    <tr>\n",
       "      <th>4</th>\n",
       "      <td>2018</td>\n",
       "      <td>Auvergne-Rhône-Alpes</td>\n",
       "      <td>Janvier</td>\n",
       "      <td>1</td>\n",
       "      <td>0.000866</td>\n",
       "    </tr>\n",
       "  </tbody>\n",
       "</table>\n",
       "</div>"
      ],
      "text/plain": [
       "   Année                Région      Mois  MDEC  Taux_de_Mortalité\n",
       "0   2018  Auvergne-Rhône-Alpes      Août     8           0.000685\n",
       "1   2018  Auvergne-Rhône-Alpes     Avril     4           0.000731\n",
       "2   2018  Auvergne-Rhône-Alpes  Décembre    12           0.000757\n",
       "3   2018  Auvergne-Rhône-Alpes   Février     2           0.000750\n",
       "4   2018  Auvergne-Rhône-Alpes   Janvier     1           0.000866"
      ]
     },
     "metadata": {},
     "output_type": "display_data"
    }
   ],
   "source": [
    "#Nettoyage des colonnes en trop:\n",
    "liste=[\"Décès\",\"Population\"]\n",
    "Base_de_Données3= Tools.suppression_colonnes(Base_de_Données2,liste)"
   ]
  },
  {
   "cell_type": "code",
   "execution_count": 27,
   "id": "46c3d739",
   "metadata": {},
   "outputs": [
    {
     "data": {
      "text/html": [
       "<div>\n",
       "<style scoped>\n",
       "    .dataframe tbody tr th:only-of-type {\n",
       "        vertical-align: middle;\n",
       "    }\n",
       "\n",
       "    .dataframe tbody tr th {\n",
       "        vertical-align: top;\n",
       "    }\n",
       "\n",
       "    .dataframe thead th {\n",
       "        text-align: right;\n",
       "    }\n",
       "</style>\n",
       "<table border=\"1\" class=\"dataframe\">\n",
       "  <thead>\n",
       "    <tr style=\"text-align: right;\">\n",
       "      <th></th>\n",
       "      <th>Région</th>\n",
       "      <th>Année</th>\n",
       "      <th>Mois</th>\n",
       "      <th>Taux_de_Mortalité</th>\n",
       "    </tr>\n",
       "  </thead>\n",
       "  <tbody>\n",
       "    <tr>\n",
       "      <th>4</th>\n",
       "      <td>Auvergne-Rhône-Alpes</td>\n",
       "      <td>2018</td>\n",
       "      <td>Janvier</td>\n",
       "      <td>0.000866</td>\n",
       "    </tr>\n",
       "    <tr>\n",
       "      <th>3</th>\n",
       "      <td>Auvergne-Rhône-Alpes</td>\n",
       "      <td>2018</td>\n",
       "      <td>Février</td>\n",
       "      <td>0.000750</td>\n",
       "    </tr>\n",
       "    <tr>\n",
       "      <th>8</th>\n",
       "      <td>Auvergne-Rhône-Alpes</td>\n",
       "      <td>2018</td>\n",
       "      <td>Mars</td>\n",
       "      <td>0.000844</td>\n",
       "    </tr>\n",
       "    <tr>\n",
       "      <th>1</th>\n",
       "      <td>Auvergne-Rhône-Alpes</td>\n",
       "      <td>2018</td>\n",
       "      <td>Avril</td>\n",
       "      <td>0.000731</td>\n",
       "    </tr>\n",
       "    <tr>\n",
       "      <th>7</th>\n",
       "      <td>Auvergne-Rhône-Alpes</td>\n",
       "      <td>2018</td>\n",
       "      <td>Mai</td>\n",
       "      <td>0.000651</td>\n",
       "    </tr>\n",
       "  </tbody>\n",
       "</table>\n",
       "</div>"
      ],
      "text/plain": [
       "                 Région  Année     Mois  Taux_de_Mortalité\n",
       "4  Auvergne-Rhône-Alpes   2018  Janvier           0.000866\n",
       "3  Auvergne-Rhône-Alpes   2018  Février           0.000750\n",
       "8  Auvergne-Rhône-Alpes   2018     Mars           0.000844\n",
       "1  Auvergne-Rhône-Alpes   2018    Avril           0.000731\n",
       "7  Auvergne-Rhône-Alpes   2018      Mai           0.000651"
      ]
     },
     "metadata": {},
     "output_type": "display_data"
    }
   ],
   "source": [
    "#Dernières mises en forme : \n",
    "Base_de_Données4 = Base_de_Données3.sort_values(by=[\"Région\", \"Année\", \"MDEC\"])\n",
    "cols = [\"Région\", \"Année\", \"Mois\", \"Taux_de_Mortalité\"]\n",
    "Base_de_Données = Base_de_Données4[cols]\n",
    "display(Base_de_Données.head(5))\n",
    "\n"
   ]
  },
  {
   "cell_type": "markdown",
   "id": "51c5c2ff",
   "metadata": {},
   "source": [
    "### 1.4 Dernier check de validation du Data Set"
   ]
  },
  {
   "cell_type": "code",
   "execution_count": 28,
   "id": "f66f9abc",
   "metadata": {},
   "outputs": [
    {
     "data": {
      "text/plain": [
       "0"
      ]
     },
     "execution_count": 28,
     "metadata": {},
     "output_type": "execute_result"
    }
   ],
   "source": [
    "Check3= 14*12*6-len(Base_de_Données)\n",
    "Check3"
   ]
  },
  {
   "cell_type": "code",
   "execution_count": 29,
   "id": "f90374ba",
   "metadata": {},
   "outputs": [
    {
     "name": "stdout",
     "output_type": "stream",
     "text": [
      "<class 'pandas.core.frame.DataFrame'>\n",
      "Index: 1008 entries, 4 to 998\n",
      "Data columns (total 4 columns):\n",
      " #   Column             Non-Null Count  Dtype  \n",
      "---  ------             --------------  -----  \n",
      " 0   Région             1008 non-null   object \n",
      " 1   Année              1008 non-null   int64  \n",
      " 2   Mois               1008 non-null   object \n",
      " 3   Taux_de_Mortalité  1008 non-null   float64\n",
      "dtypes: float64(1), int64(1), object(2)\n",
      "memory usage: 39.4+ KB\n"
     ]
    }
   ],
   "source": [
    "Base_de_Données.info()\n",
    "#Check d'éventuelles NaN sur les variables de notre data set "
   ]
  },
  {
   "cell_type": "code",
   "execution_count": 30,
   "id": "da121da8",
   "metadata": {},
   "outputs": [
    {
     "data": {
      "text/markdown": [
       "### \n",
       "👓 Région (14 modalités)"
      ],
      "text/plain": [
       "<IPython.core.display.Markdown object>"
      ]
     },
     "metadata": {},
     "output_type": "display_data"
    },
    {
     "data": {
      "text/plain": [
       "array(['Auvergne-Rhône-Alpes', 'Bourgogne-Franche-Comté', 'Bretagne',\n",
       "       'Centre-Val de Loire', 'Corse', 'Grand Est', 'Hauts-de-France',\n",
       "       'Normandie', 'Nouvelle-Aquitaine', 'Occitanie', 'Outre-Mer',\n",
       "       'Pays de la Loire', \"Provence-Alpes-Côte d'Azur\", 'Île-de-France'],\n",
       "      dtype=object)"
      ]
     },
     "metadata": {},
     "output_type": "display_data"
    },
    {
     "data": {
      "text/markdown": [
       "### \n",
       "👓 Année (6 modalités)"
      ],
      "text/plain": [
       "<IPython.core.display.Markdown object>"
      ]
     },
     "metadata": {},
     "output_type": "display_data"
    },
    {
     "data": {
      "text/plain": [
       "array([2018, 2019, 2020, 2021, 2022, 2023], dtype=int64)"
      ]
     },
     "metadata": {},
     "output_type": "display_data"
    },
    {
     "data": {
      "text/markdown": [
       "### \n",
       "👓 Mois (12 modalités)"
      ],
      "text/plain": [
       "<IPython.core.display.Markdown object>"
      ]
     },
     "metadata": {},
     "output_type": "display_data"
    },
    {
     "data": {
      "text/plain": [
       "array(['Janvier', 'Février', 'Mars', 'Avril', 'Mai', 'Juin', 'Juillet',\n",
       "       'Août', 'Septembre', 'Octobre', 'Novembre', 'Décembre'],\n",
       "      dtype=object)"
      ]
     },
     "metadata": {},
     "output_type": "display_data"
    },
    {
     "data": {
      "text/markdown": [
       "### \n",
       "👓 Taux_de_Mortalité (992 modalités)"
      ],
      "text/plain": [
       "<IPython.core.display.Markdown object>"
      ]
     },
     "metadata": {},
     "output_type": "display_data"
    },
    {
     "data": {
      "text/plain": [
       "array([0.00086622, 0.00074977, 0.00084446, 0.00073063, 0.00065133,\n",
       "       0.00063794, 0.00067784, 0.00068485, 0.00066921, 0.00069148,\n",
       "       0.00068147, 0.00075727, 0.00085553, 0.00081028, 0.00078429,\n",
       "       0.00071292, 0.00068918, 0.0006571 , 0.00068395, 0.00068109,\n",
       "       0.00064591, 0.00072436, 0.00072772, 0.00078218, 0.00081524,\n",
       "       0.00072203, 0.00085955, 0.00091624, 0.00069628, 0.00065333,\n",
       "       0.000674  , 0.00068799, 0.00070371, 0.00093097, 0.00132336,\n",
       "       0.00101242, 0.0009742 , 0.00078873, 0.00080659, 0.00079895,\n",
       "       0.00071626, 0.00062137, 0.00067017, 0.00068557, 0.00068459,\n",
       "       0.00074781, 0.00074966, 0.00092663, 0.00094612, 0.00080097,\n",
       "       0.00078517, 0.00076875, 0.00073752, 0.0006443 , 0.00075393,\n",
       "       0.00073421, 0.00068485, 0.00078357, 0.00074707, 0.00093656,\n",
       "       0.00087453, 0.00073532, 0.0007596 , 0.00071934, 0.00070104,\n",
       "       0.00064638, 0.00067407, 0.00070799, 0.00066749, 0.00074325,\n",
       "       0.00075216, 0.00085574, 0.00106952, 0.00093739, 0.00109017,\n",
       "       0.00091958, 0.00080882, 0.00076679, 0.00081345, 0.00086616,\n",
       "       0.00078139, 0.00087933, 0.00086438, 0.00093525, 0.00105468,\n",
       "       0.00099944, 0.00097591, 0.00087005, 0.00086292, 0.00082372,\n",
       "       0.00084617, 0.00081801, 0.00080696, 0.00087255, 0.00092708,\n",
       "       0.00090142, 0.00100546, 0.00088268, 0.00115073, 0.00119356,\n",
       "       0.0008684 , 0.00081308, 0.00081629, 0.00084663, 0.00084021,\n",
       "       0.00099975, 0.00127923, 0.00134526, 0.00134134, 0.00101529,\n",
       "       0.00097208, 0.00099672, 0.00086958, 0.00078459, 0.0008178 ,\n",
       "       0.00085923, 0.00080673, 0.0008903 , 0.00090529, 0.00111349,\n",
       "       0.00114302, 0.00098717, 0.00100643, 0.00099395, 0.00089516,\n",
       "       0.0008035 , 0.00094865, 0.00091584, 0.00087091, 0.00098075,\n",
       "       0.0009326 , 0.0011983 , 0.00112669, 0.00091528, 0.00097635,\n",
       "       0.00094171, 0.00088814, 0.00086707, 0.00082386, 0.00086136,\n",
       "       0.00086993, 0.00096492, 0.00097778, 0.00107384, 0.00101607,\n",
       "       0.00086856, 0.00108142, 0.00090963, 0.00087066, 0.0008011 ,\n",
       "       0.00086046, 0.00081429, 0.00082419, 0.00084967, 0.00091563,\n",
       "       0.00091773, 0.00105221, 0.00092731, 0.00090764, 0.00084981,\n",
       "       0.00086084, 0.00079139, 0.00086114, 0.00082001, 0.000806  ,\n",
       "       0.00089602, 0.00088201, 0.00096427, 0.00098404, 0.00093988,\n",
       "       0.00096596, 0.00088149, 0.00081984, 0.00078931, 0.0008065 ,\n",
       "       0.00086459, 0.00083762, 0.00093395, 0.00093869, 0.00094907,\n",
       "       0.00100307, 0.00089967, 0.0009692 , 0.00092795, 0.00091175,\n",
       "       0.00079038, 0.00090556, 0.00086962, 0.00085873, 0.00093885,\n",
       "       0.00091912, 0.0010558 , 0.00105614, 0.00094658, 0.00101582,\n",
       "       0.00095418, 0.0008861 , 0.00084812, 0.00096878, 0.00091795,\n",
       "       0.00083673, 0.00092496, 0.00094892, 0.00123202, 0.00104818,\n",
       "       0.00087145, 0.00093423, 0.00088569, 0.00088744, 0.00082785,\n",
       "       0.00081157, 0.00086883, 0.00084471, 0.00091592, 0.00097784,\n",
       "       0.00103336, 0.00100589, 0.00085819, 0.00098218, 0.00085741,\n",
       "       0.00081583, 0.00071283, 0.00079134, 0.00082515, 0.00074237,\n",
       "       0.00082088, 0.00085197, 0.00087724, 0.00101897, 0.00096301,\n",
       "       0.00090161, 0.00082699, 0.00081028, 0.00077064, 0.00080173,\n",
       "       0.00078735, 0.00077453, 0.00082349, 0.00086741, 0.00092765,\n",
       "       0.00096665, 0.00087616, 0.00097792, 0.00104899, 0.00082024,\n",
       "       0.00077247, 0.00082956, 0.00079422, 0.00078839, 0.0008851 ,\n",
       "       0.00104277, 0.00111268, 0.00114405, 0.00099056, 0.00093537,\n",
       "       0.00095092, 0.00089496, 0.00078304, 0.00080791, 0.00082346,\n",
       "       0.00079042, 0.00088485, 0.00093926, 0.00106789, 0.00107763,\n",
       "       0.00093082, 0.00094593, 0.00095638, 0.00085567, 0.00078324,\n",
       "       0.00084638, 0.00086342, 0.00079989, 0.000913  , 0.00092346,\n",
       "       0.00123063, 0.00108029, 0.00085602, 0.00092652, 0.00086299,\n",
       "       0.00088197, 0.00077352, 0.00078049, 0.00081419, 0.00082774,\n",
       "       0.00090599, 0.00090211, 0.0010342 , 0.0009511 , 0.00077093,\n",
       "       0.00088021, 0.00066459, 0.0007089 , 0.00075025, 0.00068822,\n",
       "       0.00080637, 0.00075911, 0.00072071, 0.00077979, 0.00092234,\n",
       "       0.00081365, 0.00073434, 0.00077547, 0.00073141, 0.00074316,\n",
       "       0.00079897, 0.00069616, 0.00070497, 0.00084303, 0.00090777,\n",
       "       0.0007943 , 0.00091068, 0.00075065, 0.00072738, 0.0007361 ,\n",
       "       0.00077393, 0.00083212, 0.00072156, 0.00092813, 0.00088449,\n",
       "       0.00083794, 0.00084005, 0.00081416, 0.00083142, 0.0008717 ,\n",
       "       0.00080265, 0.00074224, 0.00076813, 0.00092636, 0.00088896,\n",
       "       0.00086882, 0.00085156, 0.0010961 , 0.00099921, 0.00086257,\n",
       "       0.00104476, 0.0008825 , 0.00081133, 0.00078571, 0.00086542,\n",
       "       0.0009252 , 0.00074016, 0.00084264, 0.00079709, 0.00108462,\n",
       "       0.00091739, 0.0008073 , 0.00082142, 0.00084118, 0.00076496,\n",
       "       0.00077061, 0.0007452 , 0.000844  , 0.00087223, 0.00088634,\n",
       "       0.00077625, 0.0010303 , 0.00093291, 0.00083219, 0.00102029,\n",
       "       0.00080211, 0.00073671, 0.00068986, 0.00078283, 0.00073328,\n",
       "       0.00072265, 0.00080319, 0.00077814, 0.00084769, 0.00093085,\n",
       "       0.00087398, 0.00085886, 0.00077895, 0.00077229, 0.00072945,\n",
       "       0.00075393, 0.00073989, 0.00073233, 0.00077805, 0.00081332,\n",
       "       0.00085724, 0.00089849, 0.00082245, 0.00126918, 0.00127367,\n",
       "       0.0007696 , 0.00072465, 0.00072537, 0.00077337, 0.00072483,\n",
       "       0.00082299, 0.00097723, 0.00112698, 0.0011287 , 0.00091723,\n",
       "       0.00093144, 0.00088379, 0.00080341, 0.00071296, 0.00073077,\n",
       "       0.00075378, 0.00075954, 0.00084549, 0.00084818, 0.00101577,\n",
       "       0.00100844, 0.00086617, 0.00091689, 0.00088992, 0.00080089,\n",
       "       0.0007624 , 0.00082085, 0.00079747, 0.00077049, 0.00089261,\n",
       "       0.00087607, 0.00112588, 0.00100046, 0.00080386, 0.00088973,\n",
       "       0.00081574, 0.00078585, 0.00074967, 0.00074264, 0.00076659,\n",
       "       0.00074895, 0.00086003, 0.0008458 , 0.00098389, 0.00091304,\n",
       "       0.00080811, 0.00098316, 0.00075232, 0.00074299, 0.00067837,\n",
       "       0.00074832, 0.00068137, 0.0006812 , 0.00079046, 0.00074116,\n",
       "       0.00079462, 0.00091175, 0.00084047, 0.0008105 , 0.0007269 ,\n",
       "       0.00077086, 0.00068827, 0.00070509, 0.00070625, 0.00067211,\n",
       "       0.00075221, 0.00076537, 0.00083248, 0.00087333, 0.00078113,\n",
       "       0.00096937, 0.00099721, 0.00077096, 0.00070577, 0.00069993,\n",
       "       0.00079113, 0.00074495, 0.00088383, 0.00097904, 0.0009832 ,\n",
       "       0.0010148 , 0.00088986, 0.00095742, 0.00092856, 0.00083065,\n",
       "       0.00068821, 0.00073308, 0.00071223, 0.00073291, 0.00079896,\n",
       "       0.0008068 , 0.00094174, 0.00095351, 0.00084582, 0.00085465,\n",
       "       0.00087082, 0.00075164, 0.00070396, 0.00079448, 0.00076947,\n",
       "       0.00073397, 0.00085299, 0.00082015, 0.00106786, 0.0009704 ,\n",
       "       0.0007634 , 0.00081799, 0.0007806 , 0.00078544, 0.00072818,\n",
       "       0.00069162, 0.00071416, 0.00070414, 0.00080831, 0.00081298,\n",
       "       0.00092834, 0.00098874, 0.00086312, 0.00103923, 0.00086041,\n",
       "       0.00080812, 0.0007426 , 0.00080061, 0.00076364, 0.0007387 ,\n",
       "       0.00084839, 0.00083847, 0.00087514, 0.00098946, 0.00097984,\n",
       "       0.00087428, 0.00081232, 0.0008442 , 0.00075187, 0.00079067,\n",
       "       0.00076992, 0.00079428, 0.00083097, 0.00087879, 0.00094586,\n",
       "       0.00095774, 0.0008546 , 0.00094542, 0.00097158, 0.00082634,\n",
       "       0.00077101, 0.00077732, 0.0008555 , 0.00083055, 0.00094872,\n",
       "       0.00104164, 0.00106209, 0.00105229, 0.00094352, 0.00097267,\n",
       "       0.00096095, 0.00089755, 0.00078156, 0.00085307, 0.00081491,\n",
       "       0.00082152, 0.00089905, 0.00089604, 0.00101774, 0.00105329,\n",
       "       0.00092121, 0.00094038, 0.00096404, 0.00083466, 0.00085533,\n",
       "       0.00091433, 0.00086761, 0.00083616, 0.00095446, 0.00090923,\n",
       "       0.00128868, 0.00109926, 0.00081988, 0.00090941, 0.00084563,\n",
       "       0.00086479, 0.0008079 , 0.00076298, 0.00081359, 0.00084234,\n",
       "       0.0009148 , 0.00090312, 0.00099715, 0.00104302, 0.0009589 ,\n",
       "       0.00108633, 0.0009201 , 0.0008609 , 0.00084067, 0.00086976,\n",
       "       0.00085321, 0.00082746, 0.00089451, 0.00090338, 0.00092947,\n",
       "       0.00109329, 0.00099629, 0.00095586, 0.00087799, 0.0008933 ,\n",
       "       0.00083324, 0.0008547 , 0.00084189, 0.00084671, 0.0008953 ,\n",
       "       0.00092358, 0.00098731, 0.00101874, 0.00091151, 0.0009957 ,\n",
       "       0.00088566, 0.00083759, 0.00081091, 0.00086278, 0.00084389,\n",
       "       0.00089908, 0.00096404, 0.00105254, 0.00110127, 0.00115218,\n",
       "       0.00098478, 0.00098347, 0.00095068, 0.00093437, 0.00082958,\n",
       "       0.00086978, 0.00091196, 0.00087983, 0.00097968, 0.0009861 ,\n",
       "       0.00113488, 0.0011411 , 0.00107044, 0.00103004, 0.00100828,\n",
       "       0.00090228, 0.00085468, 0.00098718, 0.00093958, 0.00089083,\n",
       "       0.00097017, 0.00097573, 0.0012296 , 0.00111601, 0.0009365 ,\n",
       "       0.00100084, 0.00091695, 0.00088486, 0.00081677, 0.00083925,\n",
       "       0.00089757, 0.00087134, 0.00092754, 0.00093715, 0.00108083,\n",
       "       0.00102676, 0.00087384, 0.00097392, 0.00082219, 0.00078736,\n",
       "       0.00074318, 0.00080061, 0.00083374, 0.00076153, 0.00081064,\n",
       "       0.00083273, 0.00087843, 0.00101109, 0.00092598, 0.00088789,\n",
       "       0.00081423, 0.0007839 , 0.00075912, 0.00077496, 0.00078592,\n",
       "       0.00075558, 0.00082738, 0.00086176, 0.00089008, 0.00093807,\n",
       "       0.00081755, 0.00091966, 0.00087044, 0.00076884, 0.00075745,\n",
       "       0.00079562, 0.00080382, 0.00082441, 0.00098126, 0.00102913,\n",
       "       0.00096335, 0.00106722, 0.00089934, 0.00089967, 0.00090233,\n",
       "       0.00085783, 0.00076451, 0.00078394, 0.00088124, 0.00082462,\n",
       "       0.000903  , 0.00087676, 0.00106672, 0.00110973, 0.00096551,\n",
       "       0.00092275, 0.00090318, 0.00081931, 0.00080533, 0.00091239,\n",
       "       0.00090121, 0.00081783, 0.00088739, 0.00089825, 0.00111566,\n",
       "       0.00104407, 0.00088691, 0.00088168, 0.00079853, 0.00080163,\n",
       "       0.00077648, 0.00079346, 0.00083545, 0.00086306, 0.00087956,\n",
       "       0.00098722, 0.0005414 , 0.00048368, 0.00054094, 0.00048601,\n",
       "       0.00051021, 0.00050695, 0.00051999, 0.00050463, 0.00051114,\n",
       "       0.00053163, 0.00048089, 0.00051208,        inf, 0.00050398,\n",
       "       0.00049846, 0.00056566, 0.00050444, 0.00054587, 0.00054448,\n",
       "       0.00056197, 0.00058729, 0.00061767, 0.00058407, 0.00054218,\n",
       "       0.00053896, 0.00056846, 0.00053789, 0.00060542, 0.00055432,\n",
       "       0.00058032, 0.00060952, 0.00064511, 0.0012049 , 0.00082167,\n",
       "       0.00064328, 0.00055751, 0.00060998, 0.00079406, 0.00066352,\n",
       "       0.00063371, 0.00055783, 0.00061293, 0.00063416, 0.00064365,\n",
       "       0.00066713, 0.00061745, 0.00057092, 0.00054382, 0.00060932,\n",
       "       0.0005999 , 0.00050209, 0.00054561, 0.00052093, 0.00055324,\n",
       "       0.00059676, 0.00058689, 0.00061202, 0.00062458, 0.00058913,\n",
       "       0.00052766, 0.0005824 , 0.00088327, 0.00076744, 0.00091209,\n",
       "       0.00078701, 0.00073676, 0.00070212, 0.0007357 , 0.00070555,\n",
       "       0.00068625, 0.00075844, 0.00077934, 0.00079811, 0.00087851,\n",
       "       0.00081835, 0.00079575, 0.00075109, 0.00076081, 0.00073244,\n",
       "       0.00072981, 0.00070958, 0.00069907, 0.00077973, 0.00083805,\n",
       "       0.00084409, 0.00088332, 0.00079747, 0.00085436, 0.00084731,\n",
       "       0.0007411 , 0.00069283, 0.00069544, 0.00076276, 0.00073876,\n",
       "       0.00080713, 0.00090081, 0.0009316 , 0.00097743, 0.00082252,\n",
       "       0.00086015, 0.00079839, 0.00076855, 0.0006876 , 0.00074883,\n",
       "       0.00075999, 0.00073975, 0.00080695, 0.00084094, 0.000952  ,\n",
       "       0.00090302, 0.00083754, 0.00085971, 0.00087415, 0.00078289,\n",
       "       0.00074319, 0.00085404, 0.00080454, 0.00071948, 0.00085095,\n",
       "       0.00080635, 0.00110332, 0.0009609 , 0.00075697, 0.00081674,\n",
       "       0.00077057, 0.00079032, 0.00072286, 0.00070798, 0.00071465,\n",
       "       0.00075159, 0.00079365, 0.00082495, 0.00092961, 0.00104951,\n",
       "       0.00087911, 0.00095036, 0.0008142 , 0.00079678, 0.00076037,\n",
       "       0.00085754, 0.00077006, 0.00083161, 0.00082765, 0.00091473,\n",
       "       0.00102852, 0.00094822, 0.00090138, 0.00081124, 0.00079746,\n",
       "       0.00077464, 0.00082423, 0.00080927, 0.00082246, 0.00082069,\n",
       "       0.0008819 , 0.00092795, 0.00095731, 0.00085042, 0.00096731,\n",
       "       0.0009373 , 0.00078668, 0.00077746, 0.00080276, 0.00083316,\n",
       "       0.00084493, 0.00106734, 0.0011707 , 0.00110892, 0.00122995,\n",
       "       0.00105678, 0.00104001, 0.00097312, 0.00085143, 0.00079117,\n",
       "       0.0008251 , 0.00093275, 0.00090623, 0.00089238, 0.00088614,\n",
       "       0.00116326, 0.00119857, 0.00096242, 0.00096435, 0.00088563,\n",
       "       0.00082084, 0.00078119, 0.00095932, 0.00092025, 0.00084521,\n",
       "       0.0008748 , 0.00089279, 0.00114229, 0.00106712, 0.00088712,\n",
       "       0.00088673, 0.00081704, 0.00081242, 0.00078123, 0.00082879,\n",
       "       0.00084284, 0.00079567, 0.00085439, 0.00089713, 0.00103651,\n",
       "       0.00061776, 0.00053908, 0.00061383, 0.00051042, 0.00050796,\n",
       "       0.00046457, 0.00049789, 0.00044066, 0.00047407, 0.00053024,\n",
       "       0.00052385, 0.00056782, 0.00063731, 0.00057093, 0.00053382,\n",
       "       0.00050381, 0.00049957, 0.00048277, 0.0004937 , 0.00045953,\n",
       "       0.00044844, 0.00053659, 0.00053651, 0.00057647, 0.00059559,\n",
       "       0.00052494, 0.00080909, 0.00116804, 0.00053994, 0.00047247,\n",
       "       0.00045812, 0.00048281, 0.00050164, 0.00062183, 0.00064929,\n",
       "       0.00061605, 0.00064016, 0.00060094, 0.00064211, 0.00065437,\n",
       "       0.00055345, 0.00045895, 0.00046967, 0.00048128, 0.00049094,\n",
       "       0.0005515 , 0.00054355, 0.00064576, 0.00072902, 0.00054123,\n",
       "       0.00054786, 0.00054794, 0.00050844, 0.00047743, 0.00052072,\n",
       "       0.00049035, 0.0004813 , 0.00058574, 0.00056046, 0.00072951,\n",
       "       0.0006418 , 0.00050994, 0.00056176, 0.00051365, 0.00051091,\n",
       "       0.00047818, 0.00047053, 0.00046803, 0.00048463, 0.00054089,\n",
       "       0.00054331, 0.00061117])"
      ]
     },
     "metadata": {},
     "output_type": "display_data"
    }
   ],
   "source": [
    "Tools.Check_variable_dataset(Base_de_Données)\n",
    "#Check d'éventuelles anomallies sur les valeurs de nos variables"
   ]
  },
  {
   "cell_type": "code",
   "execution_count": 31,
   "id": "1bcd8cda",
   "metadata": {},
   "outputs": [
    {
     "name": "stdout",
     "output_type": "stream",
     "text": [
      "['Outre-Mer' 'Auvergne-Rhône-Alpes' 'Hauts-de-France'\n",
      " \"Provence-Alpes-Côte d'Azur\" 'Grand Est' 'Occitanie' 'Normandie'\n",
      " 'Nouvelle-Aquitaine' 'Centre-Val de Loire' 'Bourgogne-Franche-Comté'\n",
      " 'Bretagne' 'Corse' 'Pays de la Loire' 'Île-de-France']\n"
     ]
    }
   ],
   "source": [
    "print(Data2[\"Région\"].unique())#Check"
   ]
  },
  {
   "cell_type": "code",
   "execution_count": 32,
   "id": "d751b35c",
   "metadata": {},
   "outputs": [
    {
     "data": {
      "text/markdown": [
       "### 💠 Dimensions du dataset"
      ],
      "text/plain": [
       "<IPython.core.display.Markdown object>"
      ]
     },
     "metadata": {},
     "output_type": "display_data"
    },
    {
     "data": {
      "text/plain": [
       "(216, 3)"
      ]
     },
     "metadata": {},
     "output_type": "display_data"
    },
    {
     "data": {
      "text/markdown": [
       "### 💠 Visualisation des 5 premières lignes"
      ],
      "text/plain": [
       "<IPython.core.display.Markdown object>"
      ]
     },
     "metadata": {},
     "output_type": "display_data"
    },
    {
     "data": {
      "text/html": [
       "<div>\n",
       "<style scoped>\n",
       "    .dataframe tbody tr th:only-of-type {\n",
       "        vertical-align: middle;\n",
       "    }\n",
       "\n",
       "    .dataframe tbody tr th {\n",
       "        vertical-align: top;\n",
       "    }\n",
       "\n",
       "    .dataframe thead th {\n",
       "        text-align: right;\n",
       "    }\n",
       "</style>\n",
       "<table border=\"1\" class=\"dataframe\">\n",
       "  <thead>\n",
       "    <tr style=\"text-align: right;\">\n",
       "      <th></th>\n",
       "      <th>ï»¿GÃ©ographie</th>\n",
       "      <th>Date</th>\n",
       "      <th>y</th>\n",
       "    </tr>\n",
       "  </thead>\n",
       "  <tbody>\n",
       "    <tr>\n",
       "      <th>0</th>\n",
       "      <td>1</td>\n",
       "      <td>2024-01</td>\n",
       "      <td>7283</td>\n",
       "    </tr>\n",
       "    <tr>\n",
       "      <th>1</th>\n",
       "      <td>1</td>\n",
       "      <td>2024-02</td>\n",
       "      <td>6129</td>\n",
       "    </tr>\n",
       "    <tr>\n",
       "      <th>2</th>\n",
       "      <td>1</td>\n",
       "      <td>2024-03</td>\n",
       "      <td>5972</td>\n",
       "    </tr>\n",
       "    <tr>\n",
       "      <th>3</th>\n",
       "      <td>1</td>\n",
       "      <td>2024-04</td>\n",
       "      <td>5679</td>\n",
       "    </tr>\n",
       "    <tr>\n",
       "      <th>4</th>\n",
       "      <td>1</td>\n",
       "      <td>2024-05</td>\n",
       "      <td>5733</td>\n",
       "    </tr>\n",
       "  </tbody>\n",
       "</table>\n",
       "</div>"
      ],
      "text/plain": [
       "   ï»¿GÃ©ographie     Date     y\n",
       "0               1  2024-01  7283\n",
       "1               1  2024-02  6129\n",
       "2               1  2024-03  5972\n",
       "3               1  2024-04  5679\n",
       "4               1  2024-05  5733"
      ]
     },
     "metadata": {},
     "output_type": "display_data"
    },
    {
     "data": {
      "text/html": [
       "<div>\n",
       "<style scoped>\n",
       "    .dataframe tbody tr th:only-of-type {\n",
       "        vertical-align: middle;\n",
       "    }\n",
       "\n",
       "    .dataframe tbody tr th {\n",
       "        vertical-align: top;\n",
       "    }\n",
       "\n",
       "    .dataframe thead th {\n",
       "        text-align: right;\n",
       "    }\n",
       "</style>\n",
       "<table border=\"1\" class=\"dataframe\">\n",
       "  <thead>\n",
       "    <tr style=\"text-align: right;\">\n",
       "      <th></th>\n",
       "      <th>Région</th>\n",
       "      <th>Date</th>\n",
       "      <th>y</th>\n",
       "      <th>Année</th>\n",
       "    </tr>\n",
       "  </thead>\n",
       "  <tbody>\n",
       "    <tr>\n",
       "      <th>0</th>\n",
       "      <td>Auvergne-Rhône-Alpes</td>\n",
       "      <td>2024-01</td>\n",
       "      <td>7283</td>\n",
       "      <td>2024</td>\n",
       "    </tr>\n",
       "    <tr>\n",
       "      <th>1</th>\n",
       "      <td>Auvergne-Rhône-Alpes</td>\n",
       "      <td>2024-02</td>\n",
       "      <td>6129</td>\n",
       "      <td>2024</td>\n",
       "    </tr>\n",
       "    <tr>\n",
       "      <th>2</th>\n",
       "      <td>Auvergne-Rhône-Alpes</td>\n",
       "      <td>2024-03</td>\n",
       "      <td>5972</td>\n",
       "      <td>2024</td>\n",
       "    </tr>\n",
       "    <tr>\n",
       "      <th>3</th>\n",
       "      <td>Auvergne-Rhône-Alpes</td>\n",
       "      <td>2024-04</td>\n",
       "      <td>5679</td>\n",
       "      <td>2024</td>\n",
       "    </tr>\n",
       "    <tr>\n",
       "      <th>4</th>\n",
       "      <td>Auvergne-Rhône-Alpes</td>\n",
       "      <td>2024-05</td>\n",
       "      <td>5733</td>\n",
       "      <td>2024</td>\n",
       "    </tr>\n",
       "  </tbody>\n",
       "</table>\n",
       "</div>"
      ],
      "text/plain": [
       "                 Région     Date     y  Année\n",
       "0  Auvergne-Rhône-Alpes  2024-01  7283   2024\n",
       "1  Auvergne-Rhône-Alpes  2024-02  6129   2024\n",
       "2  Auvergne-Rhône-Alpes  2024-03  5972   2024\n",
       "3  Auvergne-Rhône-Alpes  2024-04  5679   2024\n",
       "4  Auvergne-Rhône-Alpes  2024-05  5733   2024"
      ]
     },
     "metadata": {},
     "output_type": "display_data"
    },
    {
     "data": {
      "text/markdown": [
       "### 💠 Dimensions du dataset"
      ],
      "text/plain": [
       "<IPython.core.display.Markdown object>"
      ]
     },
     "metadata": {},
     "output_type": "display_data"
    },
    {
     "data": {
      "text/plain": [
       "(24, 3)"
      ]
     },
     "metadata": {},
     "output_type": "display_data"
    },
    {
     "data": {
      "text/markdown": [
       "### 💠 Visualisation des 5 premières lignes"
      ],
      "text/plain": [
       "<IPython.core.display.Markdown object>"
      ]
     },
     "metadata": {},
     "output_type": "display_data"
    },
    {
     "data": {
      "text/html": [
       "<div>\n",
       "<style scoped>\n",
       "    .dataframe tbody tr th:only-of-type {\n",
       "        vertical-align: middle;\n",
       "    }\n",
       "\n",
       "    .dataframe tbody tr th {\n",
       "        vertical-align: top;\n",
       "    }\n",
       "\n",
       "    .dataframe thead th {\n",
       "        text-align: right;\n",
       "    }\n",
       "</style>\n",
       "<table border=\"1\" class=\"dataframe\">\n",
       "  <thead>\n",
       "    <tr style=\"text-align: right;\">\n",
       "      <th></th>\n",
       "      <th>ï»¿AnnÃ©e</th>\n",
       "      <th>RÃ©gion</th>\n",
       "      <th>Population</th>\n",
       "    </tr>\n",
       "  </thead>\n",
       "  <tbody>\n",
       "    <tr>\n",
       "      <th>0</th>\n",
       "      <td>2025</td>\n",
       "      <td>1</td>\n",
       "      <td>8260096</td>\n",
       "    </tr>\n",
       "    <tr>\n",
       "      <th>1</th>\n",
       "      <td>2025</td>\n",
       "      <td>2</td>\n",
       "      <td>2793080</td>\n",
       "    </tr>\n",
       "    <tr>\n",
       "      <th>2</th>\n",
       "      <td>2025</td>\n",
       "      <td>3</td>\n",
       "      <td>3475895</td>\n",
       "    </tr>\n",
       "    <tr>\n",
       "      <th>3</th>\n",
       "      <td>2025</td>\n",
       "      <td>4</td>\n",
       "      <td>2581479</td>\n",
       "    </tr>\n",
       "    <tr>\n",
       "      <th>4</th>\n",
       "      <td>2025</td>\n",
       "      <td>5</td>\n",
       "      <td>5544051</td>\n",
       "    </tr>\n",
       "  </tbody>\n",
       "</table>\n",
       "</div>"
      ],
      "text/plain": [
       "   ï»¿AnnÃ©e  RÃ©gion  Population\n",
       "0       2025        1     8260096\n",
       "1       2025        2     2793080\n",
       "2       2025        3     3475895\n",
       "3       2025        4     2581479\n",
       "4       2025        5     5544051"
      ]
     },
     "metadata": {},
     "output_type": "display_data"
    },
    {
     "data": {
      "text/html": [
       "<div>\n",
       "<style scoped>\n",
       "    .dataframe tbody tr th:only-of-type {\n",
       "        vertical-align: middle;\n",
       "    }\n",
       "\n",
       "    .dataframe tbody tr th {\n",
       "        vertical-align: top;\n",
       "    }\n",
       "\n",
       "    .dataframe thead th {\n",
       "        text-align: right;\n",
       "    }\n",
       "</style>\n",
       "<table border=\"1\" class=\"dataframe\">\n",
       "  <thead>\n",
       "    <tr style=\"text-align: right;\">\n",
       "      <th></th>\n",
       "      <th>Année</th>\n",
       "      <th>Région</th>\n",
       "      <th>Population</th>\n",
       "    </tr>\n",
       "  </thead>\n",
       "  <tbody>\n",
       "    <tr>\n",
       "      <th>0</th>\n",
       "      <td>2025</td>\n",
       "      <td>Auvergne-Rhône-Alpes</td>\n",
       "      <td>8260096</td>\n",
       "    </tr>\n",
       "    <tr>\n",
       "      <th>1</th>\n",
       "      <td>2025</td>\n",
       "      <td>Bourgogne-Franche-Comté</td>\n",
       "      <td>2793080</td>\n",
       "    </tr>\n",
       "    <tr>\n",
       "      <th>2</th>\n",
       "      <td>2025</td>\n",
       "      <td>Bretagne</td>\n",
       "      <td>3475895</td>\n",
       "    </tr>\n",
       "    <tr>\n",
       "      <th>3</th>\n",
       "      <td>2025</td>\n",
       "      <td>Centre-Val de Loire</td>\n",
       "      <td>2581479</td>\n",
       "    </tr>\n",
       "    <tr>\n",
       "      <th>4</th>\n",
       "      <td>2025</td>\n",
       "      <td>Grand Est</td>\n",
       "      <td>5544051</td>\n",
       "    </tr>\n",
       "    <tr>\n",
       "      <th>5</th>\n",
       "      <td>2025</td>\n",
       "      <td>Hauts-de-France</td>\n",
       "      <td>5973933</td>\n",
       "    </tr>\n",
       "    <tr>\n",
       "      <th>6</th>\n",
       "      <td>2025</td>\n",
       "      <td>Île-de-France</td>\n",
       "      <td>12450849</td>\n",
       "    </tr>\n",
       "    <tr>\n",
       "      <th>7</th>\n",
       "      <td>2025</td>\n",
       "      <td>Normandie</td>\n",
       "      <td>3341312</td>\n",
       "    </tr>\n",
       "    <tr>\n",
       "      <th>8</th>\n",
       "      <td>2025</td>\n",
       "      <td>Nouvelle-Aquitaine</td>\n",
       "      <td>6191209</td>\n",
       "    </tr>\n",
       "    <tr>\n",
       "      <th>9</th>\n",
       "      <td>2025</td>\n",
       "      <td>Occitanie</td>\n",
       "      <td>6201587</td>\n",
       "    </tr>\n",
       "    <tr>\n",
       "      <th>10</th>\n",
       "      <td>2025</td>\n",
       "      <td>Pays de la Loire</td>\n",
       "      <td>3936719</td>\n",
       "    </tr>\n",
       "    <tr>\n",
       "      <th>11</th>\n",
       "      <td>2025</td>\n",
       "      <td>Provence-Alpes-Côte d'Azur</td>\n",
       "      <td>5241587</td>\n",
       "    </tr>\n",
       "    <tr>\n",
       "      <th>12</th>\n",
       "      <td>2024</td>\n",
       "      <td>Auvergne-Rhône-Alpes</td>\n",
       "      <td>8228802</td>\n",
       "    </tr>\n",
       "    <tr>\n",
       "      <th>13</th>\n",
       "      <td>2024</td>\n",
       "      <td>Bourgogne-Franche-Comté</td>\n",
       "      <td>2797160</td>\n",
       "    </tr>\n",
       "    <tr>\n",
       "      <th>14</th>\n",
       "      <td>2024</td>\n",
       "      <td>Bretagne</td>\n",
       "      <td>3458588</td>\n",
       "    </tr>\n",
       "    <tr>\n",
       "      <th>15</th>\n",
       "      <td>2024</td>\n",
       "      <td>Centre-Val de Loire</td>\n",
       "      <td>2582015</td>\n",
       "    </tr>\n",
       "    <tr>\n",
       "      <th>16</th>\n",
       "      <td>2024</td>\n",
       "      <td>Grand Est</td>\n",
       "      <td>5549724</td>\n",
       "    </tr>\n",
       "    <tr>\n",
       "      <th>17</th>\n",
       "      <td>2024</td>\n",
       "      <td>Hauts-de-France</td>\n",
       "      <td>5982538</td>\n",
       "    </tr>\n",
       "    <tr>\n",
       "      <th>18</th>\n",
       "      <td>2024</td>\n",
       "      <td>Île-de-France</td>\n",
       "      <td>12430351</td>\n",
       "    </tr>\n",
       "    <tr>\n",
       "      <th>19</th>\n",
       "      <td>2024</td>\n",
       "      <td>Normandie</td>\n",
       "      <td>3341043</td>\n",
       "    </tr>\n",
       "    <tr>\n",
       "      <th>20</th>\n",
       "      <td>2024</td>\n",
       "      <td>Nouvelle-Aquitaine</td>\n",
       "      <td>6166602</td>\n",
       "    </tr>\n",
       "    <tr>\n",
       "      <th>21</th>\n",
       "      <td>2024</td>\n",
       "      <td>Occitanie</td>\n",
       "      <td>6162302</td>\n",
       "    </tr>\n",
       "    <tr>\n",
       "      <th>22</th>\n",
       "      <td>2024</td>\n",
       "      <td>Pays de la Loire</td>\n",
       "      <td>3918256</td>\n",
       "    </tr>\n",
       "    <tr>\n",
       "      <th>23</th>\n",
       "      <td>2024</td>\n",
       "      <td>Provence-Alpes-Côte d'Azur</td>\n",
       "      <td>5218341</td>\n",
       "    </tr>\n",
       "  </tbody>\n",
       "</table>\n",
       "</div>"
      ],
      "text/plain": [
       "    Année                      Région  Population\n",
       "0    2025        Auvergne-Rhône-Alpes     8260096\n",
       "1    2025     Bourgogne-Franche-Comté     2793080\n",
       "2    2025                    Bretagne     3475895\n",
       "3    2025         Centre-Val de Loire     2581479\n",
       "4    2025                   Grand Est     5544051\n",
       "5    2025             Hauts-de-France     5973933\n",
       "6    2025               Île-de-France    12450849\n",
       "7    2025                   Normandie     3341312\n",
       "8    2025          Nouvelle-Aquitaine     6191209\n",
       "9    2025                   Occitanie     6201587\n",
       "10   2025            Pays de la Loire     3936719\n",
       "11   2025  Provence-Alpes-Côte d'Azur     5241587\n",
       "12   2024        Auvergne-Rhône-Alpes     8228802\n",
       "13   2024     Bourgogne-Franche-Comté     2797160\n",
       "14   2024                    Bretagne     3458588\n",
       "15   2024         Centre-Val de Loire     2582015\n",
       "16   2024                   Grand Est     5549724\n",
       "17   2024             Hauts-de-France     5982538\n",
       "18   2024               Île-de-France    12430351\n",
       "19   2024                   Normandie     3341043\n",
       "20   2024          Nouvelle-Aquitaine     6166602\n",
       "21   2024                   Occitanie     6162302\n",
       "22   2024            Pays de la Loire     3918256\n",
       "23   2024  Provence-Alpes-Côte d'Azur     5218341"
      ]
     },
     "metadata": {},
     "output_type": "display_data"
    },
    {
     "data": {
      "text/markdown": [
       "### 💠 Dimensions du dataset"
      ],
      "text/plain": [
       "<IPython.core.display.Markdown object>"
      ]
     },
     "metadata": {},
     "output_type": "display_data"
    },
    {
     "data": {
      "text/plain": [
       "(216, 5)"
      ]
     },
     "metadata": {},
     "output_type": "display_data"
    },
    {
     "data": {
      "text/markdown": [
       "### 💠 Visualisation des 5 premières lignes"
      ],
      "text/plain": [
       "<IPython.core.display.Markdown object>"
      ]
     },
     "metadata": {},
     "output_type": "display_data"
    },
    {
     "data": {
      "text/html": [
       "<div>\n",
       "<style scoped>\n",
       "    .dataframe tbody tr th:only-of-type {\n",
       "        vertical-align: middle;\n",
       "    }\n",
       "\n",
       "    .dataframe tbody tr th {\n",
       "        vertical-align: top;\n",
       "    }\n",
       "\n",
       "    .dataframe thead th {\n",
       "        text-align: right;\n",
       "    }\n",
       "</style>\n",
       "<table border=\"1\" class=\"dataframe\">\n",
       "  <thead>\n",
       "    <tr style=\"text-align: right;\">\n",
       "      <th></th>\n",
       "      <th>Région</th>\n",
       "      <th>Date</th>\n",
       "      <th>y</th>\n",
       "      <th>Année</th>\n",
       "      <th>Population</th>\n",
       "    </tr>\n",
       "  </thead>\n",
       "  <tbody>\n",
       "    <tr>\n",
       "      <th>0</th>\n",
       "      <td>Auvergne-Rhône-Alpes</td>\n",
       "      <td>2024-01</td>\n",
       "      <td>7283</td>\n",
       "      <td>2024</td>\n",
       "      <td>8228802</td>\n",
       "    </tr>\n",
       "    <tr>\n",
       "      <th>1</th>\n",
       "      <td>Auvergne-Rhône-Alpes</td>\n",
       "      <td>2024-02</td>\n",
       "      <td>6129</td>\n",
       "      <td>2024</td>\n",
       "      <td>8228802</td>\n",
       "    </tr>\n",
       "    <tr>\n",
       "      <th>2</th>\n",
       "      <td>Auvergne-Rhône-Alpes</td>\n",
       "      <td>2024-03</td>\n",
       "      <td>5972</td>\n",
       "      <td>2024</td>\n",
       "      <td>8228802</td>\n",
       "    </tr>\n",
       "    <tr>\n",
       "      <th>3</th>\n",
       "      <td>Auvergne-Rhône-Alpes</td>\n",
       "      <td>2024-04</td>\n",
       "      <td>5679</td>\n",
       "      <td>2024</td>\n",
       "      <td>8228802</td>\n",
       "    </tr>\n",
       "    <tr>\n",
       "      <th>4</th>\n",
       "      <td>Auvergne-Rhône-Alpes</td>\n",
       "      <td>2024-05</td>\n",
       "      <td>5733</td>\n",
       "      <td>2024</td>\n",
       "      <td>8228802</td>\n",
       "    </tr>\n",
       "  </tbody>\n",
       "</table>\n",
       "</div>"
      ],
      "text/plain": [
       "                 Région     Date     y  Année  Population\n",
       "0  Auvergne-Rhône-Alpes  2024-01  7283   2024     8228802\n",
       "1  Auvergne-Rhône-Alpes  2024-02  6129   2024     8228802\n",
       "2  Auvergne-Rhône-Alpes  2024-03  5972   2024     8228802\n",
       "3  Auvergne-Rhône-Alpes  2024-04  5679   2024     8228802\n",
       "4  Auvergne-Rhône-Alpes  2024-05  5733   2024     8228802"
      ]
     },
     "metadata": {},
     "output_type": "display_data"
    },
    {
     "data": {
      "text/markdown": [
       "### 💠 Dimensions du dataset"
      ],
      "text/plain": [
       "<IPython.core.display.Markdown object>"
      ]
     },
     "metadata": {},
     "output_type": "display_data"
    },
    {
     "data": {
      "text/plain": [
       "(216, 3)"
      ]
     },
     "metadata": {},
     "output_type": "display_data"
    },
    {
     "data": {
      "text/markdown": [
       "### 💠 Visualisation des 5 premières lignes"
      ],
      "text/plain": [
       "<IPython.core.display.Markdown object>"
      ]
     },
     "metadata": {},
     "output_type": "display_data"
    },
    {
     "data": {
      "text/html": [
       "<div>\n",
       "<style scoped>\n",
       "    .dataframe tbody tr th:only-of-type {\n",
       "        vertical-align: middle;\n",
       "    }\n",
       "\n",
       "    .dataframe tbody tr th {\n",
       "        vertical-align: top;\n",
       "    }\n",
       "\n",
       "    .dataframe thead th {\n",
       "        text-align: right;\n",
       "    }\n",
       "</style>\n",
       "<table border=\"1\" class=\"dataframe\">\n",
       "  <thead>\n",
       "    <tr style=\"text-align: right;\">\n",
       "      <th></th>\n",
       "      <th>Région</th>\n",
       "      <th>Date</th>\n",
       "      <th>Taux_de_Mortalité</th>\n",
       "    </tr>\n",
       "  </thead>\n",
       "  <tbody>\n",
       "    <tr>\n",
       "      <th>0</th>\n",
       "      <td>Auvergne-Rhône-Alpes</td>\n",
       "      <td>2024-01</td>\n",
       "      <td>0.000885</td>\n",
       "    </tr>\n",
       "    <tr>\n",
       "      <th>1</th>\n",
       "      <td>Auvergne-Rhône-Alpes</td>\n",
       "      <td>2024-02</td>\n",
       "      <td>0.000745</td>\n",
       "    </tr>\n",
       "    <tr>\n",
       "      <th>2</th>\n",
       "      <td>Auvergne-Rhône-Alpes</td>\n",
       "      <td>2024-03</td>\n",
       "      <td>0.000726</td>\n",
       "    </tr>\n",
       "    <tr>\n",
       "      <th>3</th>\n",
       "      <td>Auvergne-Rhône-Alpes</td>\n",
       "      <td>2024-04</td>\n",
       "      <td>0.000690</td>\n",
       "    </tr>\n",
       "    <tr>\n",
       "      <th>4</th>\n",
       "      <td>Auvergne-Rhône-Alpes</td>\n",
       "      <td>2024-05</td>\n",
       "      <td>0.000697</td>\n",
       "    </tr>\n",
       "  </tbody>\n",
       "</table>\n",
       "</div>"
      ],
      "text/plain": [
       "                 Région     Date  Taux_de_Mortalité\n",
       "0  Auvergne-Rhône-Alpes  2024-01           0.000885\n",
       "1  Auvergne-Rhône-Alpes  2024-02           0.000745\n",
       "2  Auvergne-Rhône-Alpes  2024-03           0.000726\n",
       "3  Auvergne-Rhône-Alpes  2024-04           0.000690\n",
       "4  Auvergne-Rhône-Alpes  2024-05           0.000697"
      ]
     },
     "metadata": {},
     "output_type": "display_data"
    },
    {
     "data": {
      "text/html": [
       "<div>\n",
       "<style scoped>\n",
       "    .dataframe tbody tr th:only-of-type {\n",
       "        vertical-align: middle;\n",
       "    }\n",
       "\n",
       "    .dataframe tbody tr th {\n",
       "        vertical-align: top;\n",
       "    }\n",
       "\n",
       "    .dataframe thead th {\n",
       "        text-align: right;\n",
       "    }\n",
       "</style>\n",
       "<table border=\"1\" class=\"dataframe\">\n",
       "  <thead>\n",
       "    <tr style=\"text-align: right;\">\n",
       "      <th></th>\n",
       "      <th>Région</th>\n",
       "      <th>Date</th>\n",
       "      <th>Taux_de_Mortalité</th>\n",
       "    </tr>\n",
       "  </thead>\n",
       "  <tbody>\n",
       "    <tr>\n",
       "      <th>0</th>\n",
       "      <td>Auvergne-Rhône-Alpes</td>\n",
       "      <td>2024-01</td>\n",
       "      <td>0.000885</td>\n",
       "    </tr>\n",
       "    <tr>\n",
       "      <th>1</th>\n",
       "      <td>Auvergne-Rhône-Alpes</td>\n",
       "      <td>2024-02</td>\n",
       "      <td>0.000745</td>\n",
       "    </tr>\n",
       "    <tr>\n",
       "      <th>2</th>\n",
       "      <td>Auvergne-Rhône-Alpes</td>\n",
       "      <td>2024-03</td>\n",
       "      <td>0.000726</td>\n",
       "    </tr>\n",
       "    <tr>\n",
       "      <th>3</th>\n",
       "      <td>Auvergne-Rhône-Alpes</td>\n",
       "      <td>2024-04</td>\n",
       "      <td>0.000690</td>\n",
       "    </tr>\n",
       "    <tr>\n",
       "      <th>4</th>\n",
       "      <td>Auvergne-Rhône-Alpes</td>\n",
       "      <td>2024-05</td>\n",
       "      <td>0.000697</td>\n",
       "    </tr>\n",
       "    <tr>\n",
       "      <th>...</th>\n",
       "      <td>...</td>\n",
       "      <td>...</td>\n",
       "      <td>...</td>\n",
       "    </tr>\n",
       "    <tr>\n",
       "      <th>211</th>\n",
       "      <td>Provence-Alpes-Côte d'Azur</td>\n",
       "      <td>2025-02</td>\n",
       "      <td>0.000851</td>\n",
       "    </tr>\n",
       "    <tr>\n",
       "      <th>212</th>\n",
       "      <td>Provence-Alpes-Côte d'Azur</td>\n",
       "      <td>2025-03</td>\n",
       "      <td>0.000859</td>\n",
       "    </tr>\n",
       "    <tr>\n",
       "      <th>213</th>\n",
       "      <td>Provence-Alpes-Côte d'Azur</td>\n",
       "      <td>2025-04</td>\n",
       "      <td>0.000810</td>\n",
       "    </tr>\n",
       "    <tr>\n",
       "      <th>214</th>\n",
       "      <td>Provence-Alpes-Côte d'Azur</td>\n",
       "      <td>2025-05</td>\n",
       "      <td>0.000810</td>\n",
       "    </tr>\n",
       "    <tr>\n",
       "      <th>215</th>\n",
       "      <td>Provence-Alpes-Côte d'Azur</td>\n",
       "      <td>2025-06</td>\n",
       "      <td>0.000747</td>\n",
       "    </tr>\n",
       "  </tbody>\n",
       "</table>\n",
       "<p>216 rows × 3 columns</p>\n",
       "</div>"
      ],
      "text/plain": [
       "                         Région     Date  Taux_de_Mortalité\n",
       "0          Auvergne-Rhône-Alpes  2024-01           0.000885\n",
       "1          Auvergne-Rhône-Alpes  2024-02           0.000745\n",
       "2          Auvergne-Rhône-Alpes  2024-03           0.000726\n",
       "3          Auvergne-Rhône-Alpes  2024-04           0.000690\n",
       "4          Auvergne-Rhône-Alpes  2024-05           0.000697\n",
       "..                          ...      ...                ...\n",
       "211  Provence-Alpes-Côte d'Azur  2025-02           0.000851\n",
       "212  Provence-Alpes-Côte d'Azur  2025-03           0.000859\n",
       "213  Provence-Alpes-Côte d'Azur  2025-04           0.000810\n",
       "214  Provence-Alpes-Côte d'Azur  2025-05           0.000810\n",
       "215  Provence-Alpes-Côte d'Azur  2025-06           0.000747\n",
       "\n",
       "[216 rows x 3 columns]"
      ]
     },
     "metadata": {},
     "output_type": "display_data"
    }
   ],
   "source": [
    "#On va aussi créer une base différentes pour les données 2024-2025: \n",
    "sep=\";\"\n",
    "chemin20242025=\"C:/Users/Pierre Monnin/OneDrive/Desktop/TIDE/Apprentissage statistique non linéaire/Projet/DATA BASE/DC_20242025_det.csv\"\n",
    "Données_Mortalité_20242025=Tools.import_csv(chemin20242025,sep)\n",
    "Données_Mortalité_20242025.rename(columns={Données_Mortalité_20242025.columns[0]:\"Région\"},inplace=True)\n",
    "#On renomme notre variable mois en lettre:\n",
    "region_map = {\n",
    "    1: \"Auvergne-Rhône-Alpes\",\n",
    "    2: \"Bourgogne-Franche-Comté\",\n",
    "    3: \"Bretagne\",\n",
    "    4: \"Centre-Val de Loire\",\n",
    "    5: \"Grand Est\",\n",
    "    6: \"Hauts-de-France\",\n",
    "    7: \"Île-de-France\",\n",
    "    8: \"Normandie\",\n",
    "    9: \"Nouvelle-Aquitaine\",\n",
    "    10: \"Occitanie\",\n",
    "    11: \"Pays de la Loire\",\n",
    "    12: \"Provence-Alpes-Côte d'Azur\",\n",
    "}\n",
    "Données_Mortalité_20242025[\"Région\"] = Données_Mortalité_20242025[\"Région\"].map(region_map)\n",
    "#Création variable année :\n",
    "Données_Mortalité_20242025[\"Année\"] = Données_Mortalité_20242025[\"Date\"].str[:4].astype(\"int64\")\n",
    "display(Données_Mortalité_20242025.head())\n",
    "# jointure de la variable population par Année/région: \n",
    "sep=\";\"\n",
    "chemin20242025_Population=\"C:/Users/Pierre Monnin/OneDrive/Desktop/TIDE/Apprentissage statistique non linéaire/Projet/DATA BASE/Données_Population2024_2025.csv\"\n",
    "Population_20242025=Tools.import_csv(chemin20242025_Population,sep)\n",
    "Population_20242025.rename(columns={Population_20242025.columns[0]:\"Année\"},inplace=True)\n",
    "Population_20242025.rename(columns={Population_20242025.columns[1]:\"Région\"},inplace=True)\n",
    "Population_20242025[\"Région\"] = Population_20242025[\"Région\"].map(region_map)\n",
    "liste=[\"Année\",\"Région\",\"Population\"]\n",
    "clé=[\"Année\",\"Région\"]\n",
    "display(Population_20242025)\n",
    "Donnee_20242025_1= Tools.left_join(Données_Mortalité_20242025,Population_20242025,liste,clé)\n",
    "#Création de la variable taux de mortalité:\n",
    "Donnee_20242025_1[\"y\"]=Donnee_20242025_1[\"y\"].astype(\"int64\")\n",
    "Donnee_20242025_1[\"Population\"]=Donnee_20242025_1[\"Population\"].astype(\"int64\")\n",
    "Donnee_20242025_1[\"Taux_de_Mortalité\"] = Donnee_20242025_1[\"y\"] / Donnee_20242025_1[\"Population\"]\n",
    "l=[\"y\",\"Année\",\"Population\"]\n",
    "Donnee_20242025_1= Tools.suppression_colonnes(Donnee_20242025_1,l)\n",
    "display(Donnee_20242025_1)\n"
   ]
  },
  {
   "cell_type": "markdown",
   "id": "0adb61cb",
   "metadata": {},
   "source": [
    "<div class=\"alert alert-block alert-warning\">\n",
    "<b> Remarque : </b> <br>\n",
    "Toutes les sorties de nos checks sont cohérentes, on peut donc passer à l'étape suivante\n",
    "</div> "
   ]
  },
  {
   "cell_type": "markdown",
   "id": "7076a6cc",
   "metadata": {},
   "source": [
    "### 1.5 Export de notre base en CSV"
   ]
  },
  {
   "cell_type": "code",
   "execution_count": 33,
   "id": "f1c768a6",
   "metadata": {},
   "outputs": [],
   "source": [
    "#Export train set : \n",
    "chemin_export_Base_de_Données=\"C:/Users/Pierre Monnin/OneDrive/Desktop/TIDE/Apprentissage statistique non linéaire/Projet/DATA BASE/Base_de_Données.csv\"\n",
    "Tools.export_csv(Base_de_Données,chemin_export_Base_de_Données,sep)"
   ]
  },
  {
   "cell_type": "code",
   "execution_count": 34,
   "id": "5b604dd4",
   "metadata": {},
   "outputs": [],
   "source": [
    "#Export test set : \n",
    "chemin_export_Base_de_Données=\"C:/Users/Pierre Monnin/OneDrive/Desktop/TIDE/Apprentissage statistique non linéaire/Projet/DATA BASE/Données_Mortalité_20242025.csv\"\n",
    "Données_Mortalité_20242025=Donnee_20242025_1\n",
    "Tools.export_csv(Données_Mortalité_20242025,chemin_export_Base_de_Données,sep)\n"
   ]
  }
 ],
 "metadata": {
  "kernelspec": {
   "display_name": "Python 3",
   "language": "python",
   "name": "python3"
  },
  "language_info": {
   "codemirror_mode": {
    "name": "ipython",
    "version": 3
   },
   "file_extension": ".py",
   "mimetype": "text/x-python",
   "name": "python",
   "nbconvert_exporter": "python",
   "pygments_lexer": "ipython3",
   "version": "3.10.11"
  }
 },
 "nbformat": 4,
 "nbformat_minor": 5
}
